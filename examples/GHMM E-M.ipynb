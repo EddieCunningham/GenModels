{
 "cells": [
  {
   "cell_type": "code",
   "execution_count": 1,
   "metadata": {},
   "outputs": [],
   "source": [
    "import os\n",
    "import subprocess\n",
    "import sys\n",
    "import numpy as np\n",
    "import itertools\n",
    "from tqdm import tqdm\n",
    "from IPython.display import display, HTML\n",
    "top_level_dir = '/'.join( os.getcwd().split( '/' )[ :-2 ] )\n",
    "if top_level_dir not in sys.path:\n",
    "    sys.path.append( top_level_dir )"
   ]
  },
  {
   "cell_type": "code",
   "execution_count": 2,
   "metadata": {},
   "outputs": [],
   "source": [
    "from GenModels.GM.States.GraphicalMessagePassing import DataGraph, \\\n",
    "                                                        GraphCategoricalForwardBackwardFBS\n",
    "from GenModels.GM.Distributions import Categorical, Dirichlet"
   ]
  },
  {
   "cell_type": "markdown",
   "metadata": {},
   "source": [
    "# Expectation Maximization with graphical hidden markov models"
   ]
  },
  {
   "cell_type": "markdown",
   "metadata": {},
   "source": [
    "The EM algorithm for graph hmms is very similar to the regular baum-welch algorithm, except the transition update involves normalizing over joint parent probabilities:\n",
    "- E Step:\n",
    "    - Compute U and V probabilites for each node where\n",
    "$$\n",
    "U( n )    = P( \\uparrow( n )_y, n_x )\n",
    "$$\n",
    "$$\n",
    "V( n, e ) = P( \\downarrow( n, e )_y | n_x )\n",
    "$$\n",
    "    - Compute \n",
    "    $$ P( x | Y ) $$\n",
    "    $$ P( x_{p1...pN} | Y ) $$\n",
    "    $$ P( x_c, x_{p1...pN} | Y ) $$ for each node using the U and V values\n",
    "    \n",
    "- M Step:\n",
    "    - Update \n",
    "    $$ P( x_{root} ) = \\frac{1}{|roots|}\\sum_{r \\in roots} P( x_r | Y ) $$\n",
    "    $$ P( x_c | x_{p1...pN} ) = \\frac{ \\sum_{ n_c \\notin roots }P( x_c, x_{p1...pN} | Y ) }\n",
    "                                     { \\sum_{ n_c \\notin roots }P( x_{p1...pN} | Y ) } $$\n",
    "                                     \n",
    "    $$ P( y_n | x_n ) = \\frac{ \\sum_{ n \\in nodes }I[ P( x_n | Y ) ]_{ y_n == y^{'} } }\n",
    "                             { \\sum_{ n \\in nodes }P( x_n | Y ) } $$"
   ]
  },
  {
   "cell_type": "markdown",
   "metadata": {},
   "source": [
    "# E Step"
   ]
  },
  {
   "cell_type": "code",
   "execution_count": 3,
   "metadata": {},
   "outputs": [],
   "source": [
    "def EStep( msg ):\n",
    "    U, V = msg.filter()\n",
    "    \n",
    "    marginal = msg.marginalProb( U, V, 0 )\n",
    "    \n",
    "    # Compute log P( x | Y ), log P( x_p1..pN | Y ) and log P( x_c, x_p1..pN | Y )\n",
    "    node_smoothed = msg.nodeSmoothed( U, V, msg.nodes )\n",
    "    parents_smoothed = msg.parentsSmoothed( U, V, msg.nodes )\n",
    "    node_parents_smoothed = msg.parentChildSmoothed( U, V, msg.nodes )\n",
    "    \n",
    "    # The probabilities are normalized, so don't need them in log space anymore\n",
    "    node_smoothed = [ ( n, np.exp( val ) ) for n, val in node_smoothed ]\n",
    "    parents_smoothed = [ ( n, np.exp( val ) ) for n, val in parents_smoothed ]\n",
    "    node_parents_smoothed = [ ( n, np.exp( val ) ) for n, val in node_parents_smoothed ]\n",
    "    \n",
    "    return dict( node_smoothed ), dict( parents_smoothed ), dict( node_parents_smoothed ), marginal"
   ]
  },
  {
   "cell_type": "markdown",
   "metadata": {},
   "source": [
    "# M Step"
   ]
  },
  {
   "cell_type": "code",
   "execution_count": 10,
   "metadata": {},
   "outputs": [],
   "source": [
    "def logWithZero( val ):\n",
    "    # Helper function to avoid numpy divide by 0 warning in np.log\n",
    "    ans = np.empty_like( val )\n",
    "    ans[ val != 0.0 ] = np.log( val[ val != 0.0 ] )\n",
    "    ans[ val == 0.0 ] = np.NINF\n",
    "    return ans\n",
    "\n",
    "def MStep( msg, node_smoothed, parents_smoothed, node_parents_smoothed ):\n",
    "    \n",
    "    # Initialize the root distritubion, transition distribution and emission distribution\n",
    "    initial_dist = np.zeros_like( msg.pi0 )\n",
    "    \n",
    "    trans_dist_numerator = {}\n",
    "    trans_dist_denominator = {}\n",
    "    for n_parents_1, val in msg.pis.items():\n",
    "        trans_dist_numerator[ n_parents_1 ] = np.zeros_like( val )\n",
    "        trans_dist_denominator[ n_parents_1 - 1 ] = np.zeros( val.shape[ :-1 ] )\n",
    "            \n",
    "    emission_dist_numerator = np.zeros_like( msg.emission_dist )\n",
    "    emission_dist_denominator = np.zeros_like( msg.pi0 )\n",
    "    \n",
    "    # Update the root distribution\n",
    "    for root in msg.roots:\n",
    "        initial_dist += node_smoothed[ root ]\n",
    "    initial_dist /= msg.roots.size\n",
    "        \n",
    "    # Update the transition distributions\n",
    "    for node in msg.nodes:\n",
    "        n_parents = msg.nParents( node )\n",
    "        if( n_parents == 0 ):\n",
    "            continue\n",
    "        \n",
    "        trans_dist_numerator[ n_parents + 1 ] += node_parents_smoothed[ node ]     \n",
    "        trans_dist_denominator[ n_parents ] += parents_smoothed[ node ]\n",
    "        \n",
    "    # Update the emission distribution\n",
    "    for node, ys in zip( msg.nodes, msg.ys ):\n",
    "        measurements = ys.shape[ 0 ]\n",
    "        \n",
    "        for y in ys:\n",
    "            emission_dist_numerator[ :, y ] += node_smoothed[ node ]\n",
    "        emission_dist_denominator += node_smoothed[ node ] * measurements\n",
    "\n",
    "    assert np.allclose( initial_dist.sum( axis=-1 ), 1.0 )\n",
    "    for n_parents, parent_dist in trans_dist_denominator.items():\n",
    "        assert np.allclose( ( trans_dist_numerator[ n_parents + 1 ] / parent_dist[ ..., None ] ).sum( axis=-1 ), 1.0 )\n",
    "    assert np.allclose( ( emission_dist_numerator / emission_dist_denominator[ :, None ] ).sum( axis=-1 ), 1.0 )\n",
    "        \n",
    "    # Update msg's parameters\n",
    "    msg.pi0 = logWithZero( initial_dist )\n",
    "    \n",
    "    for n_parents, parent_dist in trans_dist_denominator.items():\n",
    "        msg.pis[ n_parents + 1 ] = logWithZero( trans_dist_numerator[ n_parents + 1 ] / parent_dist[ ..., None ] )\n",
    "        \n",
    "    msg.emission_dist = logWithZero( emission_dist_numerator / emission_dist_denominator[ :, None ] )\n",
    "    \n",
    "    return msg"
   ]
  },
  {
   "cell_type": "markdown",
   "metadata": {},
   "source": [
    "# Initialize graph"
   ]
  },
  {
   "cell_type": "code",
   "execution_count": null,
   "metadata": {},
   "outputs": [],
   "source": [
    "# Latent state size of 3 so that we can use rgb values to interpret them\n",
    "d_latent     = 3\n",
    "d_obs        = 2\n",
    "\n",
    "# This is the number of times we measure an emission from the same \n",
    "# latent state for a node\n",
    "measurements = 3\n",
    "\n",
    "graph = DataGraph()\n",
    "graph.addEdge( parents=[ 0 ], children=[ 1 ] )\n",
    "graph.addEdge( parents=[ 1, 2 ], children=[ 3, 4, 5 ] )\n",
    "graph.addEdge( parents=[ 3, 4 ], children=[ 6 ] )\n",
    "graph.addEdge( parents=[ 6 ], children=[ 7 ] )\n",
    "graph.addEdge( parents=[ 5, 6 ], children=[ 8 ] )\n",
    "\n",
    "# Add random data that is either 0 or 1\n",
    "for node in graph.nodes:\n",
    "    data = Categorical.generate( D=d_obs, size=measurements )\n",
    "    graph.updateNodeData( node, data )\n",
    "\n",
    "feedback_set = np.array( [ 3, 5 ] )\n",
    "graph.draw( horizontal=True )"
   ]
  },
  {
   "cell_type": "markdown",
   "metadata": {},
   "source": [
    "# Initialize model"
   ]
  },
  {
   "cell_type": "code",
   "execution_count": 6,
   "metadata": {},
   "outputs": [],
   "source": [
    "# Initial dist\n",
    "initial_dists = Dirichlet.generate( D=d_latent )\n",
    "\n",
    "# Check how many transition distributions we need\n",
    "all_transition_counts = set()\n",
    "for parents in graph.edge_parents:\n",
    "    ndim = len( parents ) + 1\n",
    "    all_transition_counts.add( ndim )\n",
    "\n",
    "# Create the transition distribution\n",
    "transition_dists = []\n",
    "for ndim in all_transition_counts:\n",
    "    shape = [ d_latent for _ in range( ndim ) ]\n",
    "    trans = np.empty( shape )\n",
    "    for indices in itertools.product( *[ range( s ) for s in shape[ 1: ] ] ):\n",
    "        trans[ indices ] = Dirichlet.generate( D=d_latent )\n",
    "\n",
    "    transition_dists.append( trans )\n",
    "\n",
    "# Emission dist\n",
    "emission_dist = Dirichlet.generate( D=d_obs, size=d_latent )\n",
    "\n",
    "# Create the message passer and initialize\n",
    "msg = GraphCategoricalForwardBackwardFBS()\n",
    "msg.updateParamsFromGraphs( initial_dists, transition_dists, emission_dist, [ ( graph, feedback_set ) ] )"
   ]
  },
  {
   "cell_type": "markdown",
   "metadata": {},
   "source": [
    "# Interpret probabilities as rgb values"
   ]
  },
  {
   "cell_type": "code",
   "execution_count": 7,
   "metadata": {},
   "outputs": [],
   "source": [
    "import matplotlib\n",
    "\n",
    "# Path to tmp folder where the intermediate images will be rendered\n",
    "tmp_folder = top_level_dir + '/GenModels/tmp'\n",
    "\n",
    "def genStyle( probs ):\n",
    "    color = matplotlib.colors.to_hex( probs )\n",
    "    return dict( fontcolor='black', style='filled', color=color )"
   ]
  },
  {
   "cell_type": "markdown",
   "metadata": {},
   "source": [
    "# Run the EM algorithm and draw the graph's latent states at each iteration"
   ]
  },
  {
   "cell_type": "code",
   "execution_count": 8,
   "metadata": {
    "scrolled": true
   },
   "outputs": [
    {
     "name": "stderr",
     "output_type": "stream",
     "text": [
      "-14.925:   7%|▋         | 36/500 [00:09<02:01,  3.82it/s]"
     ]
    }
   ],
   "source": [
    "iters = 500\n",
    "tit = tqdm( range( iters ) )\n",
    "last_marginal = 9999\n",
    "for i in tit:\n",
    "    node_smoothed, parents_smoothed, node_parents_smoothed, marginal = EStep( msg )\n",
    "    msg = MStep( msg, node_smoothed, parents_smoothed, node_parents_smoothed )\n",
    "\n",
    "    styles = dict( [ ( node, genStyle( probs ) ) for node, probs in node_smoothed.items() ] )\n",
    "    node_to_style_key = dict( [ ( node, node ) for node in msg.nodes ] )\n",
    "\n",
    "    output_name = 'graph_%d'%( i )\n",
    "\n",
    "    # Draw the graph\n",
    "    msg.toGraph().draw( styles=styles, \n",
    "                        horizontal=True, \n",
    "                        node_to_style_key=node_to_style_key, \n",
    "                        output_folder=tmp_folder, \n",
    "                        output_name=output_name )\n",
    "\n",
    "    tit.set_description( '%5.3f'%( marginal ) )\n",
    "    if( np.isclose( marginal, last_marginal ) ):\n",
    "        break\n",
    "    last_marginal = marginal"
   ]
  },
  {
   "cell_type": "markdown",
   "metadata": {},
   "source": [
    "# There are different colors even though the data was uniformly random because the size of the dataset was small and EM tends to overfit"
   ]
  },
  {
   "cell_type": "code",
   "execution_count": 9,
   "metadata": {},
   "outputs": [
    {
     "data": {
      "text/html": [
       "<img src=\"./hmm_em.gif\">"
      ],
      "text/plain": [
       "<IPython.core.display.HTML object>"
      ]
     },
     "execution_count": 9,
     "metadata": {},
     "output_type": "execute_result"
    }
   ],
   "source": [
    "# Convert the images to a gif using ImageMagick\n",
    "image_paths = [ tmp_folder + '/graph_%d.png'%( j ) for j in range( i + 1 ) ]\n",
    "commands = [ 'convert', '-loop', '0', '-delay', '20' ] + image_paths + [ 'hmm_em.gif' ]\n",
    "subprocess.call( commands )\n",
    "\n",
    "# Delete the contents of tmp\n",
    "subprocess.call( [ 'rm' ] + image_paths )\n",
    "\n",
    "# Display the gif\n",
    "HTML( '<img src=\"./%s\">'%( 'hmm_em.gif' ) )"
   ]
  }
 ],
 "metadata": {
  "kernelspec": {
   "display_name": "Python [conda env:GenModel]",
   "language": "python",
   "name": "conda-env-GenModel-py"
  },
  "language_info": {
   "codemirror_mode": {
    "name": "ipython",
    "version": 3
   },
   "file_extension": ".py",
   "mimetype": "text/x-python",
   "name": "python",
   "nbconvert_exporter": "python",
   "pygments_lexer": "ipython3",
   "version": "3.6.5"
  }
 },
 "nbformat": 4,
 "nbformat_minor": 2
}
