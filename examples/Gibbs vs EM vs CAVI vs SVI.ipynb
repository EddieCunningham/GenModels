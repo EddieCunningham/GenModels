{
 "cells": [
  {
   "cell_type": "code",
   "execution_count": 80,
   "metadata": {},
   "outputs": [
    {
     "name": "stdout",
     "output_type": "stream",
     "text": [
      "The autoreload extension is already loaded. To reload it, use:\n",
      "  %reload_ext autoreload\n"
     ]
    },
    {
     "data": {
      "text/html": [
       "<style>.container { width:100% !important; }</style>"
      ],
      "text/plain": [
       "<IPython.core.display.HTML object>"
      ]
     },
     "metadata": {},
     "output_type": "display_data"
    }
   ],
   "source": [
    "import os\n",
    "import subprocess\n",
    "import sys\n",
    "import numpy as np\n",
    "import itertools\n",
    "import json\n",
    "from tqdm import tqdm\n",
    "from IPython.display import display, HTML\n",
    "import time\n",
    "import copy\n",
    "from collections import namedtuple\n",
    "from functools import partial\n",
    "top_level_dir = '/'.join( os.getcwd().split( '/' )[ :-2 ] )\n",
    "if top_level_dir not in sys.path:\n",
    "    sys.path.append( top_level_dir )\n",
    "%load_ext autoreload\n",
    "%autoreload 2\n",
    "display(HTML(\"<style>.container { width:100% !important; }</style>\"))"
   ]
  },
  {
   "cell_type": "markdown",
   "metadata": {},
   "source": [
    "# This notebook will look at the convergence rate for different kinds of graphs\n",
    "\\*Even though gibbs isn't the best choice for getting a good marginal value, will include the plot of the marginal values that are sampled anyway"
   ]
  },
  {
   "cell_type": "code",
   "execution_count": 197,
   "metadata": {},
   "outputs": [],
   "source": [
    "from GenModels.GM.Distributions import Categorical, Dirichlet, TensorTransition, TensorTransitionDirichletPrior\n",
    "from GenModels.GM.Models.DiscreteGraphModels import *\n",
    "from GenModels.GM.States.GraphicalMessagePassing import DataGraph"
   ]
  },
  {
   "cell_type": "code",
   "execution_count": 198,
   "metadata": {},
   "outputs": [],
   "source": [
    "graphs = []\n",
    "true_model = GHMM( priors=( initial_priors, transition_priors, emission_prior ), method='EM' )\n",
    "for _ in range( 20 ):\n",
    "    line = DataGraph()\n",
    "    for i in range( 1, 100 ):\n",
    "        line.addEdge( parents=[ i-1 ], children=[ i ] )\n",
    "    single_graph = [ ( line, np.array( [] ) ) ]    \n",
    "\n",
    "    true_model.setGraphs( single_graph )\n",
    "    _, data = true_model.sampleStates()\n",
    "\n",
    "    line.setNodeData( data.keys(), data.values() )\n",
    "    graphs.append( single_graph[ 0 ] )"
   ]
  },
  {
   "cell_type": "code",
   "execution_count": 199,
   "metadata": {},
   "outputs": [
    {
     "name": "stdout",
     "output_type": "stream",
     "text": [
      "[0.72603984 0.17799634 0.09596382]\n",
      "[array([[0.83352265, 0.11908908, 0.04738827],\n",
      "       [0.58068162, 0.33865167, 0.08066671],\n",
      "       [0.29471467, 0.03932211, 0.66596322]])]\n",
      "[[0.15862361 0.41823474 0.1583819  0.26475975]\n",
      " [0.07333183 0.10327215 0.21039339 0.61300263]\n",
      " [0.30189531 0.05935233 0.42598225 0.21277011]]\n"
     ]
    }
   ],
   "source": [
    "print( true_model.params.initial_dist.pi )\n",
    "print( [ dist.pi for dist in true_model.params.transition_dists ] )\n",
    "print( true_model.params.emission_dist.pi )"
   ]
  },
  {
   "cell_type": "code",
   "execution_count": null,
   "metadata": {},
   "outputs": [],
   "source": []
  },
  {
   "cell_type": "markdown",
   "metadata": {},
   "source": [
    "# Test 1 - Deep graphs without cycles"
   ]
  },
  {
   "cell_type": "code",
   "execution_count": 200,
   "metadata": {},
   "outputs": [],
   "source": [
    "initial_shape, transition_shapes, emission_shape = GHMM.parameterShapes( graphs, d_latent=3, d_obs=4 )\n",
    "initial_priors = np.ones( initial_shape )\n",
    "transition_priors = [ np.ones( shape ) for shape in transition_shapes ]\n",
    "emission_prior = np.ones( emission_shape )"
   ]
  },
  {
   "cell_type": "code",
   "execution_count": 201,
   "metadata": {},
   "outputs": [],
   "source": [
    "em_model    = GHMM( graphs, priors=( initial_priors, transition_priors, emission_prior ), method='EM' )\n",
    "gibbs_model = GHMM( graphs, priors=( initial_priors, transition_priors, emission_prior ), method='Gibbs' )\n",
    "cavi_model  = GHMM( graphs, priors=( initial_priors, transition_priors, emission_prior ), method='CAVI' )\n",
    "svi_model   = GHMM( graphs, priors=( initial_priors, transition_priors, emission_prior ), method='SVI', step_size=0.1, minibatch_size=1 )"
   ]
  },
  {
   "cell_type": "code",
   "execution_count": 202,
   "metadata": {},
   "outputs": [
    {
     "name": "stdout",
     "output_type": "stream",
     "text": [
      "[-3230.177553897641, -3052.545392414777, -4469.442089330458, -223.4721044665228]\n",
      "[-2665.838509470722, -3409.5783466204184, -2698.847475714881, -151.1404607879549]\n",
      "[-2661.5550415023085, -2762.581768237624, -2698.8474757148815, -151.837642571352]\n",
      "[-2659.1187844242445, -2814.2704723389447, -2698.8474757148815, -159.40849432993343]\n",
      "[-2657.6857696993893, -3905.134605164823, -2698.8474757148815, -156.86875718171956]\n",
      "[-2656.8245583540584, -3044.9720353675275, -2698.8474757148815, -157.69371467870525]\n",
      "[-2656.2962380356303, -3023.296613039687, -2698.8474757148815, -167.0497152966633]\n",
      "[-2655.9655292344914, -2882.3253911173747, -2698.8474757148815, -167.84513361961464]\n",
      "[-2655.754511492292, -2979.345096579954, -2698.8474757148815, -167.48185578949776]\n",
      "[-2655.617345535915, -3264.5247101323557, -2698.8474757148815, -162.97771096884838]\n"
     ]
    }
   ],
   "source": [
    "values = []\n",
    "it = np.arange( 10 )\n",
    "for _ in it:\n",
    "    em_marginal    = em_model.fitStep()\n",
    "    gibbs_marginal = gibbs_model.fitStep( return_marginal=True )\n",
    "    elbo_cavi      = cavi_model.fitStep()\n",
    "    elbo_svi       = svi_model.fitStep()\n",
    "    values.append( [ em_marginal, gibbs_marginal, elbo_cavi, elbo_svi ] )\n",
    "    print( values[ -1 ] )"
   ]
  },
  {
   "cell_type": "code",
   "execution_count": 203,
   "metadata": {},
   "outputs": [],
   "source": [
    "y1, y2, y3, y4 = zip( *values )"
   ]
  },
  {
   "cell_type": "code",
   "execution_count": 204,
   "metadata": {},
   "outputs": [
    {
     "data": {
      "image/png": "[encoded data removed]",
      "text/plain": [
       "<Figure size 432x288 with 1 Axes>"
      ]
     },
     "metadata": {},
     "output_type": "display_data"
    }
   ],
   "source": [
    "import matplotlib.pyplot as plt\n",
    "plt.plot( it[ :10 ], y1[ :10 ] )\n",
    "plt.plot( it[ :10 ], y2[ :10 ] )\n",
    "plt.plot( it[ :10 ], y3[ :10 ] )\n",
    "plt.plot( it[ :10 ], y4[ :10 ] )\n",
    "plt.show()"
   ]
  },
  {
   "cell_type": "code",
   "execution_count": null,
   "metadata": {},
   "outputs": [],
   "source": []
  },
  {
   "cell_type": "code",
   "execution_count": null,
   "metadata": {},
   "outputs": [],
   "source": []
  },
  {
   "cell_type": "code",
   "execution_count": null,
   "metadata": {},
   "outputs": [],
   "source": []
  },
  {
   "cell_type": "code",
   "execution_count": null,
   "metadata": {},
   "outputs": [],
   "source": []
  },
  {
   "cell_type": "markdown",
   "metadata": {},
   "source": [
    "# Test 2 - Wide graphs without cycles"
   ]
  },
  {
   "cell_type": "code",
   "execution_count": null,
   "metadata": {},
   "outputs": [],
   "source": []
  },
  {
   "cell_type": "code",
   "execution_count": null,
   "metadata": {},
   "outputs": [],
   "source": []
  },
  {
   "cell_type": "code",
   "execution_count": null,
   "metadata": {},
   "outputs": [],
   "source": []
  },
  {
   "cell_type": "code",
   "execution_count": null,
   "metadata": {},
   "outputs": [],
   "source": []
  },
  {
   "cell_type": "markdown",
   "metadata": {},
   "source": [
    "# Test 3 - Deep graphs with cycles"
   ]
  },
  {
   "cell_type": "code",
   "execution_count": null,
   "metadata": {},
   "outputs": [],
   "source": []
  },
  {
   "cell_type": "code",
   "execution_count": null,
   "metadata": {},
   "outputs": [],
   "source": []
  },
  {
   "cell_type": "code",
   "execution_count": null,
   "metadata": {},
   "outputs": [],
   "source": []
  },
  {
   "cell_type": "markdown",
   "metadata": {},
   "source": [
    "# Test 4 - Wide graphs with cycles"
   ]
  },
  {
   "cell_type": "code",
   "execution_count": null,
   "metadata": {},
   "outputs": [],
   "source": []
  }
 ],
 "metadata": {
  "kernelspec": {
   "display_name": "Python [conda env:GenModel]",
   "language": "python",
   "name": "conda-env-GenModel-py"
  },
  "language_info": {
   "codemirror_mode": {
    "name": "ipython",
    "version": 3
   },
   "file_extension": ".py",
   "mimetype": "text/x-python",
   "name": "python",
   "nbconvert_exporter": "python",
   "pygments_lexer": "ipython3",
   "version": "3.6.6"
  }
 },
 "nbformat": 4,
 "nbformat_minor": 2
}
