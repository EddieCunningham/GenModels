{
 "cells": [
  {
   "cell_type": "code",
   "execution_count": null,
   "metadata": {},
   "outputs": [],
   "source": [
    "import os\n",
    "import subprocess\n",
    "import sys\n",
    "import autograd.numpy as np\n",
    "import itertools\n",
    "import json\n",
    "from tqdm import tqdm\n",
    "from IPython.display import display, HTML\n",
    "import time\n",
    "import copy\n",
    "from collections import namedtuple\n",
    "from functools import partial\n",
    "import matplotlib.pyplot as plt\n",
    "top_level_dir = '/'.join( os.getcwd().split( '/' )[ :-2 ] )\n",
    "if top_level_dir not in sys.path:\n",
    "    sys.path.append( top_level_dir )\n",
    "%load_ext autoreload\n",
    "%autoreload 2\n",
    "display(HTML(\"<style>.container { width:100% !important; }</style>\"))"
   ]
  },
  {
   "cell_type": "markdown",
   "metadata": {},
   "source": [
    "# This notebook will look at the convergence rate for different kinds of graphs\n",
    "\\*Even though gibbs isn't the best choice for getting a good marginal value, will include the plot of the marginal values that are sampled anyway"
   ]
  },
  {
   "cell_type": "code",
   "execution_count": null,
   "metadata": {},
   "outputs": [],
   "source": [
    "from GenModels.GM.Distributions import Categorical, Dirichlet, TensorTransition, TensorTransitionDirichletPrior\n",
    "from GenModels.GM.Models.DiscreteGraphModels import *\n",
    "from GenModels.GM.States.GraphicalMessagePassing import *"
   ]
  },
  {
   "cell_type": "code",
   "execution_count": null,
   "metadata": {},
   "outputs": [],
   "source": [
    "graphs = []\n",
    "for _ in range( 50 ):\n",
    "    line = DataGraph()\n",
    "    for i in range( 1, 30 ):\n",
    "        line.addEdge( parents=[ i-1 ], children=[ i ] )\n",
    "    graphs.append( ( line, np.array( [] ) ) )"
   ]
  },
  {
   "cell_type": "code",
   "execution_count": null,
   "metadata": {},
   "outputs": [],
   "source": [
    "graphs = [ ( graph1(), np.array( [] ) ),\n",
    "           ( graph2(), np.array( [] ) ),\n",
    "           ( graph3(), np.array( [] ) ),\n",
    "           ( graph4(), np.array( [] ) ),\n",
    "           ( graph5(), np.array( [] ) ),\n",
    "           ( graph6(), np.array( [] ) ),\n",
    "           ( graph7(), np.array( [] ) ),\n",
    "           cycleGraph1(),\n",
    "           cycleGraph2(),\n",
    "           cycleGraph3(),\n",
    "           cycleGraph7(),\n",
    "           cycleGraph8(),\n",
    "           cycleGraph10(),\n",
    "           cycleGraph11(),\n",
    "           cycleGraph12() ]\n",
    "graphs = graphs*3"
   ]
  },
  {
   "cell_type": "code",
   "execution_count": null,
   "metadata": {},
   "outputs": [],
   "source": [
    "total_nodes = sum( [ len( g.nodes ) for g, _ in graphs ] )\n",
    "print( total_nodes )"
   ]
  },
  {
   "cell_type": "code",
   "execution_count": null,
   "metadata": {},
   "outputs": [],
   "source": []
  },
  {
   "cell_type": "code",
   "execution_count": null,
   "metadata": {},
   "outputs": [],
   "source": [
    "initial_shape, transition_shapes, emission_shape = GHMM.parameterShapes( graphs, d_latent=3, d_obs=4 )\n",
    "initial_priors = np.ones( initial_shape )\n",
    "transition_priors = [ np.ones( shape ) for shape in transition_shapes ]\n",
    "emission_prior = np.ones( emission_shape )"
   ]
  },
  {
   "cell_type": "code",
   "execution_count": null,
   "metadata": {},
   "outputs": [],
   "source": [
    "true_model = GHMM( priors=( initial_priors, transition_priors, emission_prior ), method='EM' )\n",
    "for i, ( graph, fbs ) in enumerate( graphs ):\n",
    "    true_model.setGraphs( [ ( graph, fbs ) ] )\n",
    "    _, data = true_model.sampleStates()\n",
    "    graph.setNodeData( data.keys(), data.values() )"
   ]
  },
  {
   "cell_type": "code",
   "execution_count": null,
   "metadata": {},
   "outputs": [],
   "source": [
    "# print( true_model.params.initial_dist.pi )\n",
    "# print( [ dist.pi for dist in true_model.params.transition_dists ] )\n",
    "# print( true_model.params.emission_dist.pi )"
   ]
  },
  {
   "cell_type": "code",
   "execution_count": null,
   "metadata": {},
   "outputs": [],
   "source": []
  },
  {
   "cell_type": "markdown",
   "metadata": {},
   "source": [
    "# Test 1 - Deep graphs without cycles"
   ]
  },
  {
   "cell_type": "code",
   "execution_count": null,
   "metadata": {},
   "outputs": [],
   "source": [
    "# em_model    = GHMM( graphs, priors=( initial_priors, transition_priors, emission_prior ), method='EM' )\n",
    "# gibbs_model = GHMM( graphs, priors=( initial_priors, transition_priors, emission_prior ), method='Gibbs' )\n",
    "# cavi_model  = GHMM( graphs, priors=( initial_priors, transition_priors, emission_prior ), method='CAVI' )\n",
    "# svi_model   = GHMM( graphs, priors=( initial_priors, transition_priors, emission_prior ), method='SVI', step_size=0.1, minibatch_size=1 )"
   ]
  },
  {
   "cell_type": "code",
   "execution_count": null,
   "metadata": {
    "scrolled": false
   },
   "outputs": [],
   "source": [
    "# values = []\n",
    "# it = np.arange( 10 )\n",
    "# for _ in it:\n",
    "#     em_marginal    = em_model.fitStep()\n",
    "#     gibbs_marginal = gibbs_model.fitStep( return_marginal=True )\n",
    "#     elbo_cavi      = cavi_model.fitStep()\n",
    "#     elbo_svi       = svi_model.fitStep()\n",
    "#     values.append( [ em_marginal, gibbs_marginal, elbo_cavi, elbo_svi ] )\n",
    "\n",
    "#     print( values[ -1 ] )"
   ]
  },
  {
   "cell_type": "code",
   "execution_count": null,
   "metadata": {},
   "outputs": [],
   "source": [
    "# y1, y2, y3, y4 = zip( *values )"
   ]
  },
  {
   "cell_type": "code",
   "execution_count": null,
   "metadata": {},
   "outputs": [],
   "source": [
    "# plt.plot( it[ :10 ], y1[ :10 ], color='red', label='em' )\n",
    "# plt.plot( it[ :10 ], y2[ :10 ], color='blue', label='gibbs' )\n",
    "# plt.plot( it[ :10 ], y3[ :10 ], color='green', label='elbo' )\n",
    "# plt.plot( it[ :10 ], y4[ :10 ], color='purple', label='svi' )\n",
    "# plt.show()"
   ]
  },
  {
   "cell_type": "code",
   "execution_count": null,
   "metadata": {},
   "outputs": [],
   "source": [
    "svae = GSVAE( graphs[ :3 ], priors=( initial_priors, transition_priors ), d_obs=4 )"
   ]
  },
  {
   "cell_type": "code",
   "execution_count": null,
   "metadata": {
    "scrolled": false
   },
   "outputs": [],
   "source": [
    "# losses = svae.fit()"
   ]
  },
  {
   "cell_type": "code",
   "execution_count": null,
   "metadata": {},
   "outputs": [],
   "source": [
    "# assert 0"
   ]
  },
  {
   "cell_type": "code",
   "execution_count": null,
   "metadata": {},
   "outputs": [],
   "source": [
    "# plt.plot( np.arange( len( losses ) ), np.array( [ l._value for l in losses ] ) )"
   ]
  },
  {
   "cell_type": "code",
   "execution_count": null,
   "metadata": {},
   "outputs": [],
   "source": []
  },
  {
   "cell_type": "code",
   "execution_count": null,
   "metadata": {},
   "outputs": [],
   "source": []
  },
  {
   "cell_type": "code",
   "execution_count": null,
   "metadata": {},
   "outputs": [],
   "source": []
  },
  {
   "cell_type": "code",
   "execution_count": null,
   "metadata": {},
   "outputs": [],
   "source": [
    "y = np.random.choice( 5, 5 )"
   ]
  },
  {
   "cell_type": "code",
   "execution_count": null,
   "metadata": {},
   "outputs": [],
   "source": [
    "one_hot = np.zeros( ( y.shape[ 0 ], 5 ) )\n",
    "one_hot[ np.arange( 5 ), y ] = 1"
   ]
  },
  {
   "cell_type": "code",
   "execution_count": null,
   "metadata": {},
   "outputs": [],
   "source": [
    "one_hot"
   ]
  },
  {
   "cell_type": "code",
   "execution_count": null,
   "metadata": {},
   "outputs": [],
   "source": [
    "y[ None ] + one_hot"
   ]
  },
  {
   "cell_type": "code",
   "execution_count": null,
   "metadata": {},
   "outputs": [],
   "source": []
  },
  {
   "cell_type": "code",
   "execution_count": null,
   "metadata": {},
   "outputs": [],
   "source": []
  },
  {
   "cell_type": "code",
   "execution_count": null,
   "metadata": {},
   "outputs": [],
   "source": []
  },
  {
   "cell_type": "code",
   "execution_count": null,
   "metadata": {},
   "outputs": [],
   "source": []
  },
  {
   "cell_type": "code",
   "execution_count": null,
   "metadata": {},
   "outputs": [],
   "source": []
  },
  {
   "cell_type": "code",
   "execution_count": null,
   "metadata": {},
   "outputs": [],
   "source": []
  },
  {
   "cell_type": "code",
   "execution_count": null,
   "metadata": {},
   "outputs": [],
   "source": []
  },
  {
   "cell_type": "code",
   "execution_count": null,
   "metadata": {},
   "outputs": [],
   "source": []
  },
  {
   "cell_type": "code",
   "execution_count": null,
   "metadata": {},
   "outputs": [],
   "source": []
  },
  {
   "cell_type": "code",
   "execution_count": null,
   "metadata": {},
   "outputs": [],
   "source": []
  },
  {
   "cell_type": "code",
   "execution_count": null,
   "metadata": {},
   "outputs": [],
   "source": []
  },
  {
   "cell_type": "code",
   "execution_count": null,
   "metadata": {},
   "outputs": [],
   "source": []
  },
  {
   "cell_type": "code",
   "execution_count": null,
   "metadata": {},
   "outputs": [],
   "source": []
  },
  {
   "cell_type": "code",
   "execution_count": null,
   "metadata": {},
   "outputs": [],
   "source": []
  },
  {
   "cell_type": "code",
   "execution_count": null,
   "metadata": {},
   "outputs": [],
   "source": []
  },
  {
   "cell_type": "code",
   "execution_count": null,
   "metadata": {},
   "outputs": [],
   "source": [
    "groups = [ 0, 1, 2 ]\n",
    "d_latents = dict( zip( groups, [ 2, 3, 4 ] ) )\n",
    "d_obs = 4"
   ]
  },
  {
   "cell_type": "code",
   "execution_count": null,
   "metadata": {},
   "outputs": [],
   "source": [
    "def graphToGroupGraph( graphs, dataPerNode, groupPerNode, with_fbs=False, random_latent_states=False, d_latents=None ):\n",
    "    assert isinstance( graphs, list )\n",
    "    group_graphs = []\n",
    "    for graph in graphs:\n",
    "\n",
    "        if( with_fbs ):\n",
    "            if( not isinstance( graph, Graph ) ):\n",
    "                graph, fbs = graph\n",
    "            else:\n",
    "                graph, fbs = graph, np.array( [] )\n",
    "\n",
    "        data = [ ( node, dataPerNode( node ) ) for node in graph.nodes ]\n",
    "        group = [ ( node, groupPerNode( node ) ) for node in graph.nodes ]\n",
    "        group_graph = GroupGraph.fromGraph( graph, data, group )\n",
    "\n",
    "        if( random_latent_states ):\n",
    "            assert d_latents is not None\n",
    "            for node in group_graph.nodes:\n",
    "                group = group_graph.groups[ node ]\n",
    "                possible_latent_states = np.array( list( set( np.random.choice( np.arange( d_latents[ group ] ), d_latents[ group ] - 1 ).tolist() ) ) )\n",
    "                group_graph.setPossibleLatentStates( node, possible_latent_states )\n",
    "\n",
    "        if( with_fbs ):\n",
    "            group_graphs.append( ( group_graph, fbs ) )\n",
    "        else:\n",
    "            group_graphs.append( group_graph )\n",
    "    return group_graphs\n",
    "\n",
    "def dataPerNode( node ):\n",
    "    return Categorical.generate( D=d_obs, size=1 )\n",
    "def groupPerNode( node ):\n",
    "    return Categorical.generate( D=len( groups ) )\n",
    "\n",
    "group_graphs = graphToGroupGraph( graphs, dataPerNode, groupPerNode, with_fbs=True )"
   ]
  },
  {
   "cell_type": "code",
   "execution_count": null,
   "metadata": {},
   "outputs": [],
   "source": [
    "shapes = GroupGHMM.parameterShapes( group_graphs, d_latents={ 0:2, 1:3, 2:4 }, d_obs=4, groups=[ 0, 1, 2 ] )\n",
    "initial_shapes, transition_shapes, emission_shapes = shapes"
   ]
  },
  {
   "cell_type": "code",
   "execution_count": null,
   "metadata": {},
   "outputs": [],
   "source": [
    "initial_priors = dict( ( group, np.ones( shape ) ) for group, shape in initial_shapes.items() )\n",
    "transition_priors = dict( ( group, [ np.ones( shape ) for shape in shapes ] ) for group, shapes in transition_shapes.items() )\n",
    "emission_prior = dict( ( group, np.ones( shape ) ) for group, shape in emission_shapes.items() )"
   ]
  },
  {
   "cell_type": "code",
   "execution_count": null,
   "metadata": {
    "scrolled": false
   },
   "outputs": [],
   "source": [
    "# true_model = GroupGHMM( priors=( initial_priors, transition_priors, emission_prior ), method='EM' )"
   ]
  },
  {
   "cell_type": "code",
   "execution_count": null,
   "metadata": {},
   "outputs": [],
   "source": [
    "# for i, ( graph, fbs ) in enumerate( group_graphs ):\n",
    "#     true_model.setGraphs( [ ( graph, fbs ) ] )\n",
    "#     _, data = true_model.sampleStates()\n",
    "#     graph.setNodeData( data.keys(), data.values() )"
   ]
  },
  {
   "cell_type": "code",
   "execution_count": null,
   "metadata": {},
   "outputs": [],
   "source": [
    "# em_model    = GroupGHMM( group_graphs, priors=( initial_priors, transition_priors, emission_prior ), method='EM' )\n",
    "# gibbs_model = GroupGHMM( group_graphs, priors=( initial_priors, transition_priors, emission_prior ), method='Gibbs' )\n",
    "# cavi_model  = GroupGHMM( group_graphs, priors=( initial_priors, transition_priors, emission_prior ), method='CAVI' )\n",
    "# svi_model   = GroupGHMM( group_graphs, priors=( initial_priors, transition_priors, emission_prior ), method='SVI', step_size=0.1, minibatch_size=1 )"
   ]
  },
  {
   "cell_type": "code",
   "execution_count": null,
   "metadata": {
    "scrolled": false
   },
   "outputs": [],
   "source": [
    "# cavi_model.fitStep()"
   ]
  },
  {
   "cell_type": "code",
   "execution_count": null,
   "metadata": {
    "scrolled": false
   },
   "outputs": [],
   "source": [
    "# cavi_model.fitStep()"
   ]
  },
  {
   "cell_type": "code",
   "execution_count": null,
   "metadata": {},
   "outputs": [],
   "source": []
  },
  {
   "cell_type": "code",
   "execution_count": null,
   "metadata": {},
   "outputs": [],
   "source": [
    "group_svae = GroupGSVAE( graphs=group_graphs[ :3 ], priors=( initial_priors, transition_priors ), d_obs=d_obs )"
   ]
  },
  {
   "cell_type": "code",
   "execution_count": null,
   "metadata": {
    "scrolled": false
   },
   "outputs": [],
   "source": [
    "group_svae.fit()"
   ]
  },
  {
   "cell_type": "code",
   "execution_count": 16,
   "metadata": {},
   "outputs": [],
   "source": [
    "def logsumexp( v, axis=0 ):\n",
    "    max_v = np.max( v )\n",
    "    return np.log( np.sum( np.exp( v - max_v ), axis=axis ) ) + max_v\n"
   ]
  },
  {
   "cell_type": "code",
   "execution_count": 28,
   "metadata": {},
   "outputs": [],
   "source": [
    "from autograd import grad\n",
    "import autograd.numpy as np\n",
    "from autograd.misc.optimizers import adam"
   ]
  },
  {
   "cell_type": "code",
   "execution_count": 60,
   "metadata": {},
   "outputs": [],
   "source": [
    "y = np.zeros( 4 )\n",
    "y[ 0 ] = 0.7\n",
    "y[ 1 ] = 0.1\n",
    "y[ 2 ] = 0.1\n",
    "y[ 3 ] = 0.1\n",
    "\n",
    "def blah( x, i ):\n",
    "    ans = -np.sum( y * np.sin( 0.5 + x )**2 )\n",
    "    print( ans )\n",
    "    return ans"
   ]
  },
  {
   "cell_type": "code",
   "execution_count": null,
   "metadata": {},
   "outputs": [],
   "source": []
  },
  {
   "cell_type": "code",
   "execution_count": 64,
   "metadata": {},
   "outputs": [
    {
     "data": {
      "text/plain": [
       "2.0"
      ]
     },
     "execution_count": 64,
     "metadata": {},
     "output_type": "execute_result"
    }
   ],
   "source": [
    "np.max( ( 1.0, 0.0, 2.0 ) )"
   ]
  },
  {
   "cell_type": "code",
   "execution_count": 65,
   "metadata": {},
   "outputs": [
    {
     "data": {
      "text/plain": [
       "4"
      ]
     },
     "execution_count": 65,
     "metadata": {},
     "output_type": "execute_result"
    }
   ],
   "source": [
    "np.random.choice( 10 )"
   ]
  },
  {
   "cell_type": "code",
   "execution_count": 67,
   "metadata": {},
   "outputs": [],
   "source": [
    "def normalize( x ):\n",
    "    return x - logsumexp( x )"
   ]
  },
  {
   "cell_type": "code",
   "execution_count": 69,
   "metadata": {},
   "outputs": [
    {
     "name": "stdout",
     "output_type": "stream",
     "text": [
      "[0.11920292 0.88079708]\n"
     ]
    }
   ],
   "source": [
    "x = np.array( [ 1, 3 ] )\n",
    "print( np.exp( normalize( x ) ) )"
   ]
  }
 ],
 "metadata": {
  "kernelspec": {
   "display_name": "Python [conda env:GenModel]",
   "language": "python",
   "name": "conda-env-GenModel-py"
  },
  "language_info": {
   "codemirror_mode": {
    "name": "ipython",
    "version": 3
   },
   "file_extension": ".py",
   "mimetype": "text/x-python",
   "name": "python",
   "nbconvert_exporter": "python",
   "pygments_lexer": "ipython3",
   "version": "3.6.6"
  }
 },
 "nbformat": 4,
 "nbformat_minor": 2
}
