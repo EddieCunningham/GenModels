{
 "cells": [
  {
   "cell_type": "code",
   "execution_count": 1,
   "metadata": {},
   "outputs": [
    {
     "data": {
      "text/html": [
       "<style>.container { width:100% !important; }</style>"
      ],
      "text/plain": [
       "<IPython.core.display.HTML object>"
      ]
     },
     "metadata": {},
     "output_type": "display_data"
    }
   ],
   "source": [
    "import os\n",
    "import subprocess\n",
    "import sys\n",
    "import numpy as np\n",
    "import itertools\n",
    "import json\n",
    "from tqdm import tqdm\n",
    "from IPython.display import display, HTML\n",
    "import time\n",
    "import copy\n",
    "from collections import namedtuple\n",
    "from functools import partial\n",
    "top_level_dir = '/'.join( os.getcwd().split( '/' )[ :-2 ] )\n",
    "if top_level_dir not in sys.path:\n",
    "    sys.path.append( top_level_dir )\n",
    "%load_ext autoreload\n",
    "%autoreload 2\n",
    "display(HTML(\"<style>.container { width:100% !important; }</style>\"))"
   ]
  },
  {
   "cell_type": "markdown",
   "metadata": {},
   "source": [
    "# This notebook will look at the convergence rate for different kinds of graphs\n",
    "\\*Even though gibbs isn't the best choice for getting a good marginal value, will include the plot of the marginal values that are sampled anyway"
   ]
  },
  {
   "cell_type": "code",
   "execution_count": 2,
   "metadata": {},
   "outputs": [],
   "source": [
    "from GenModels.GM.Distributions import Categorical, Dirichlet, TensorTransition, TensorTransitionDirichletPrior\n",
    "from GenModels.GM.Models.DiscreteGraphModels import *\n",
    "from GenModels.GM.States.GraphicalMessagePassing import DataGraph"
   ]
  },
  {
   "cell_type": "code",
   "execution_count": 8,
   "metadata": {},
   "outputs": [],
   "source": [
    "graphs = []\n",
    "for _ in range( 20 ):\n",
    "    line = DataGraph()\n",
    "    for i in range( 1, 30 ):\n",
    "        line.addEdge( parents=[ i-1 ], children=[ i ] )\n",
    "    graphs.append( ( line, np.array( [] ) ) )"
   ]
  },
  {
   "cell_type": "code",
   "execution_count": 9,
   "metadata": {},
   "outputs": [],
   "source": [
    "initial_shape, transition_shapes, emission_shape = GHMM.parameterShapes( graphs, d_latent=3, d_obs=4 )\n",
    "initial_priors = np.ones( initial_shape )\n",
    "transition_priors = [ np.ones( shape ) for shape in transition_shapes ]\n",
    "emission_prior = np.ones( emission_shape )"
   ]
  },
  {
   "cell_type": "code",
   "execution_count": 10,
   "metadata": {},
   "outputs": [],
   "source": [
    "true_model = GHMM( priors=( initial_priors, transition_priors, emission_prior ), method='EM' )\n",
    "for graph, fbs in graphs:\n",
    "\n",
    "    true_model.setGraphs( [ ( graph, fbs ) ] )\n",
    "    _, data = true_model.sampleStates()\n",
    "    graph.setNodeData( data.keys(), data.values() )"
   ]
  },
  {
   "cell_type": "code",
   "execution_count": 11,
   "metadata": {},
   "outputs": [
    {
     "name": "stdout",
     "output_type": "stream",
     "text": [
      "[0.03577683 0.13680743 0.82741574]\n",
      "[array([[0.22595569, 0.62252227, 0.15152204],\n",
      "       [0.60167193, 0.3931233 , 0.00520477],\n",
      "       [0.51636445, 0.14210561, 0.34152994]])]\n",
      "[[0.13539297 0.30091445 0.56014678 0.0035458 ]\n",
      " [0.6812981  0.09905431 0.1962072  0.02344039]\n",
      " [0.43874359 0.06402206 0.48315836 0.01407599]]\n"
     ]
    }
   ],
   "source": [
    "print( true_model.params.initial_dist.pi )\n",
    "print( [ dist.pi for dist in true_model.params.transition_dists ] )\n",
    "print( true_model.params.emission_dist.pi )"
   ]
  },
  {
   "cell_type": "markdown",
   "metadata": {},
   "source": [
    "# Test 1 - Deep graphs without cycles"
   ]
  },
  {
   "cell_type": "code",
   "execution_count": 12,
   "metadata": {},
   "outputs": [],
   "source": [
    "em_model    = GHMM( graphs, priors=( initial_priors, transition_priors, emission_prior ), method='EM' )\n",
    "gibbs_model = GHMM( graphs, priors=( initial_priors, transition_priors, emission_prior ), method='Gibbs' )\n",
    "cavi_model  = GHMM( graphs, priors=( initial_priors, transition_priors, emission_prior ), method='CAVI' )\n",
    "svi_model   = GHMM( graphs, priors=( initial_priors, transition_priors, emission_prior ), method='SVI', step_size=0.1, minibatch_size=1 )"
   ]
  },
  {
   "cell_type": "code",
   "execution_count": 13,
   "metadata": {},
   "outputs": [
    {
     "name": "stdout",
     "output_type": "stream",
     "text": [
      "[-1106.3270083210184, -1026.1566214515503, -1340.8326267991335, -67.0416313399567]\n",
      "[-651.406862376312, -986.3456288950179, -689.0129558129248, -56.96387084300591]\n",
      "[-651.3019926198732, -859.3319349839843, -689.0129558129247, -48.0781429622606]\n",
      "[-651.2152829154431, -1037.302861019402, -689.0129558129238, -52.07116981384132]\n",
      "[-651.1415695567623, -779.6775685562974, -689.0129558129238, -60.19542640597564]\n",
      "[-651.077392840264, -837.7539057922845, -689.0129558129238, -52.7799483755916]\n",
      "[-651.0203404484974, -970.5182509429658, -689.0129558129238, -57.23152730536701]\n",
      "[-650.9686874026911, -792.4130751758668, -689.0129558129238, -61.403508549157294]\n",
      "[-650.9211761024625, -853.7812738816808, -689.0129558129238, -56.54702287418607]\n",
      "[-650.8768764648405, -973.3014414604793, -689.0129558129238, -57.77178897126754]\n"
     ]
    }
   ],
   "source": [
    "values = []\n",
    "it = np.arange( 10 )\n",
    "for _ in it:\n",
    "    em_marginal    = em_model.fitStep()\n",
    "    gibbs_marginal = gibbs_model.fitStep( return_marginal=True )\n",
    "    elbo_cavi      = cavi_model.fitStep()\n",
    "    elbo_svi       = svi_model.fitStep()\n",
    "    values.append( [ em_marginal, gibbs_marginal, elbo_cavi, elbo_svi ] )\n",
    "    print( values[ -1 ] )"
   ]
  },
  {
   "cell_type": "code",
   "execution_count": 14,
   "metadata": {},
   "outputs": [],
   "source": [
    "y1, y2, y3, y4 = zip( *values )"
   ]
  },
  {
   "cell_type": "code",
   "execution_count": 16,
   "metadata": {},
   "outputs": [
    {
     "data": {
      "image/png": "[encoded data removed]",
      "text/plain": [
       "<Figure size 432x288 with 1 Axes>"
      ]
     },
     "metadata": {},
     "output_type": "display_data"
    }
   ],
   "source": [
    "import matplotlib.pyplot as plt\n",
    "plt.plot( it[ :10 ], y1[ :10 ] )\n",
    "plt.plot( it[ :10 ], y2[ :10 ] )\n",
    "plt.plot( it[ :10 ], y3[ :10 ] )\n",
    "plt.plot( it[ :10 ], y4[ :10 ] )\n",
    "plt.show()"
   ]
  },
  {
   "cell_type": "code",
   "execution_count": null,
   "metadata": {},
   "outputs": [],
   "source": []
  },
  {
   "cell_type": "code",
   "execution_count": null,
   "metadata": {},
   "outputs": [],
   "source": []
  },
  {
   "cell_type": "code",
   "execution_count": null,
   "metadata": {},
   "outputs": [],
   "source": []
  },
  {
   "cell_type": "code",
   "execution_count": null,
   "metadata": {},
   "outputs": [],
   "source": []
  },
  {
   "cell_type": "markdown",
   "metadata": {},
   "source": [
    "# Test 2 - Wide graphs without cycles"
   ]
  },
  {
   "cell_type": "code",
   "execution_count": null,
   "metadata": {},
   "outputs": [],
   "source": []
  },
  {
   "cell_type": "code",
   "execution_count": null,
   "metadata": {},
   "outputs": [],
   "source": []
  },
  {
   "cell_type": "code",
   "execution_count": null,
   "metadata": {},
   "outputs": [],
   "source": []
  },
  {
   "cell_type": "code",
   "execution_count": null,
   "metadata": {},
   "outputs": [],
   "source": []
  },
  {
   "cell_type": "markdown",
   "metadata": {},
   "source": [
    "# Test 3 - Deep graphs with cycles"
   ]
  },
  {
   "cell_type": "code",
   "execution_count": null,
   "metadata": {},
   "outputs": [],
   "source": []
  },
  {
   "cell_type": "code",
   "execution_count": null,
   "metadata": {},
   "outputs": [],
   "source": []
  },
  {
   "cell_type": "code",
   "execution_count": null,
   "metadata": {},
   "outputs": [],
   "source": []
  },
  {
   "cell_type": "markdown",
   "metadata": {},
   "source": [
    "# Test 4 - Wide graphs with cycles"
   ]
  },
  {
   "cell_type": "code",
   "execution_count": null,
   "metadata": {},
   "outputs": [],
   "source": []
  }
 ],
 "metadata": {
  "kernelspec": {
   "display_name": "Python [conda env:GenModel]",
   "language": "python",
   "name": "conda-env-GenModel-py"
  },
  "language_info": {
   "codemirror_mode": {
    "name": "ipython",
    "version": 3
   },
   "file_extension": ".py",
   "mimetype": "text/x-python",
   "name": "python",
   "nbconvert_exporter": "python",
   "pygments_lexer": "ipython3",
   "version": "3.6.6"
  }
 },
 "nbformat": 4,
 "nbformat_minor": 2
}
