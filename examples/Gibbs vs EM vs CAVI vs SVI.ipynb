{
 "cells": [
  {
   "cell_type": "code",
   "execution_count": 1,
   "metadata": {},
   "outputs": [
    {
     "data": {
      "text/html": [
       "<style>.container { width:100% !important; }</style>"
      ],
      "text/plain": [
       "<IPython.core.display.HTML object>"
      ]
     },
     "metadata": {},
     "output_type": "display_data"
    }
   ],
   "source": [
    "import os\n",
    "import subprocess\n",
    "import sys\n",
    "import autograd.numpy as np\n",
    "import itertools\n",
    "import json\n",
    "from tqdm import tqdm\n",
    "from IPython.display import display, HTML\n",
    "import time\n",
    "import copy\n",
    "from collections import namedtuple\n",
    "from functools import partial\n",
    "import matplotlib.pyplot as plt\n",
    "top_level_dir = '/'.join( os.getcwd().split( '/' )[ :-2 ] )\n",
    "if top_level_dir not in sys.path:\n",
    "    sys.path.append( top_level_dir )\n",
    "%load_ext autoreload\n",
    "%autoreload 2\n",
    "display(HTML(\"<style>.container { width:100% !important; }</style>\"))"
   ]
  },
  {
   "cell_type": "markdown",
   "metadata": {},
   "source": [
    "# This notebook will look at the convergence rate for different kinds of graphs\n",
    "\\*Even though gibbs isn't the best choice for getting a good marginal value, will include the plot of the marginal values that are sampled anyway"
   ]
  },
  {
   "cell_type": "code",
   "execution_count": 2,
   "metadata": {},
   "outputs": [],
   "source": [
    "from GenModels.GM.Distributions import Categorical, Dirichlet, TensorTransition, TensorTransitionDirichletPrior\n",
    "from GenModels.GM.Models.DiscreteGraphModels import *\n",
    "from GenModels.GM.States.GraphicalMessagePassing import *"
   ]
  },
  {
   "cell_type": "code",
   "execution_count": 3,
   "metadata": {},
   "outputs": [],
   "source": [
    "graphs = []\n",
    "for _ in range( 50 ):\n",
    "    line = DataGraph()\n",
    "    for i in range( 1, 30 ):\n",
    "        line.addEdge( parents=[ i-1 ], children=[ i ] )\n",
    "    graphs.append( ( line, np.array( [] ) ) )"
   ]
  },
  {
   "cell_type": "code",
   "execution_count": 4,
   "metadata": {},
   "outputs": [],
   "source": [
    "graphs = [ ( graph1(), np.array( [] ) ),\n",
    "           ( graph2(), np.array( [] ) ),\n",
    "           ( graph3(), np.array( [] ) ),\n",
    "           ( graph4(), np.array( [] ) ),\n",
    "           ( graph5(), np.array( [] ) ),\n",
    "           ( graph6(), np.array( [] ) ),\n",
    "           ( graph7(), np.array( [] ) ),\n",
    "           cycleGraph1(),\n",
    "           cycleGraph2(),\n",
    "           cycleGraph3(),\n",
    "           cycleGraph7(),\n",
    "           cycleGraph8(),\n",
    "           cycleGraph10(),\n",
    "           cycleGraph11(),\n",
    "           cycleGraph12() ]\n",
    "graphs = graphs*3"
   ]
  },
  {
   "cell_type": "code",
   "execution_count": 5,
   "metadata": {},
   "outputs": [
    {
     "name": "stdout",
     "output_type": "stream",
     "text": [
      "348\n"
     ]
    }
   ],
   "source": [
    "total_nodes = sum( [ len( g.nodes ) for g, _ in graphs ] )\n",
    "print( total_nodes )"
   ]
  },
  {
   "cell_type": "code",
   "execution_count": null,
   "metadata": {},
   "outputs": [],
   "source": []
  },
  {
   "cell_type": "code",
   "execution_count": 6,
   "metadata": {},
   "outputs": [],
   "source": [
    "initial_shape, transition_shapes, emission_shape = GHMM.parameterShapes( graphs, d_latent=3, d_obs=4 )\n",
    "initial_priors = np.ones( initial_shape )\n",
    "transition_priors = [ np.ones( shape ) for shape in transition_shapes ]\n",
    "emission_prior = np.ones( emission_shape )"
   ]
  },
  {
   "cell_type": "code",
   "execution_count": 7,
   "metadata": {},
   "outputs": [],
   "source": [
    "true_model = GHMM( priors=( initial_priors, transition_priors, emission_prior ), method='EM' )\n",
    "for i, ( graph, fbs ) in enumerate( graphs ):\n",
    "    true_model.setGraphs( [ ( graph, fbs ) ] )\n",
    "    _, data = true_model.sampleStates()\n",
    "    graph.setNodeData( data.keys(), data.values() )"
   ]
  },
  {
   "cell_type": "code",
   "execution_count": 8,
   "metadata": {},
   "outputs": [],
   "source": [
    "# print( true_model.params.initial_dist.pi )\n",
    "# print( [ dist.pi for dist in true_model.params.transition_dists ] )\n",
    "# print( true_model.params.emission_dist.pi )"
   ]
  },
  {
   "cell_type": "code",
   "execution_count": null,
   "metadata": {},
   "outputs": [],
   "source": []
  },
  {
   "cell_type": "markdown",
   "metadata": {},
   "source": [
    "# Test 1 - Deep graphs without cycles"
   ]
  },
  {
   "cell_type": "code",
   "execution_count": 9,
   "metadata": {},
   "outputs": [],
   "source": [
    "# em_model    = GHMM( graphs, priors=( initial_priors, transition_priors, emission_prior ), method='EM' )\n",
    "# gibbs_model = GHMM( graphs, priors=( initial_priors, transition_priors, emission_prior ), method='Gibbs' )\n",
    "# cavi_model  = GHMM( graphs, priors=( initial_priors, transition_priors, emission_prior ), method='CAVI' )\n",
    "# svi_model   = GHMM( graphs, priors=( initial_priors, transition_priors, emission_prior ), method='SVI', step_size=0.1, minibatch_size=1 )"
   ]
  },
  {
   "cell_type": "code",
   "execution_count": 10,
   "metadata": {
    "scrolled": false
   },
   "outputs": [],
   "source": [
    "# values = []\n",
    "# it = np.arange( 10 )\n",
    "# for _ in it:\n",
    "#     em_marginal    = em_model.fitStep()\n",
    "#     gibbs_marginal = gibbs_model.fitStep( return_marginal=True )\n",
    "#     elbo_cavi      = cavi_model.fitStep()\n",
    "#     elbo_svi       = svi_model.fitStep()\n",
    "#     values.append( [ em_marginal, gibbs_marginal, elbo_cavi, elbo_svi ] )\n",
    "\n",
    "#     print( values[ -1 ] )"
   ]
  },
  {
   "cell_type": "code",
   "execution_count": 11,
   "metadata": {},
   "outputs": [],
   "source": [
    "# y1, y2, y3, y4 = zip( *values )"
   ]
  },
  {
   "cell_type": "code",
   "execution_count": 12,
   "metadata": {},
   "outputs": [],
   "source": [
    "# plt.plot( it[ :10 ], y1[ :10 ], color='red', label='em' )\n",
    "# plt.plot( it[ :10 ], y2[ :10 ], color='blue', label='gibbs' )\n",
    "# plt.plot( it[ :10 ], y3[ :10 ], color='green', label='elbo' )\n",
    "# plt.plot( it[ :10 ], y4[ :10 ], color='purple', label='svi' )\n",
    "# plt.show()"
   ]
  },
  {
   "cell_type": "code",
   "execution_count": 13,
   "metadata": {},
   "outputs": [],
   "source": [
    "svae = GSVAE( graphs[ :3 ], priors=( initial_priors, transition_priors ), d_obs=4 )"
   ]
  },
  {
   "cell_type": "code",
   "execution_count": 14,
   "metadata": {
    "scrolled": false
   },
   "outputs": [],
   "source": [
    "# losses = svae.fit()"
   ]
  },
  {
   "cell_type": "code",
   "execution_count": 15,
   "metadata": {},
   "outputs": [],
   "source": [
    "# assert 0"
   ]
  },
  {
   "cell_type": "code",
   "execution_count": 16,
   "metadata": {},
   "outputs": [],
   "source": [
    "# plt.plot( np.arange( len( losses ) ), np.array( [ l._value for l in losses ] ) )"
   ]
  },
  {
   "cell_type": "code",
   "execution_count": null,
   "metadata": {},
   "outputs": [],
   "source": []
  },
  {
   "cell_type": "code",
   "execution_count": null,
   "metadata": {},
   "outputs": [],
   "source": []
  },
  {
   "cell_type": "code",
   "execution_count": null,
   "metadata": {},
   "outputs": [],
   "source": []
  },
  {
   "cell_type": "code",
   "execution_count": 17,
   "metadata": {},
   "outputs": [],
   "source": [
    "y = np.random.choice( 5, 5 )"
   ]
  },
  {
   "cell_type": "code",
   "execution_count": 18,
   "metadata": {},
   "outputs": [],
   "source": [
    "one_hot = np.zeros( ( y.shape[ 0 ], 5 ) )\n",
    "one_hot[ np.arange( 5 ), y ] = 1"
   ]
  },
  {
   "cell_type": "code",
   "execution_count": 19,
   "metadata": {},
   "outputs": [
    {
     "data": {
      "text/plain": [
       "array([[0., 0., 0., 0., 1.],\n",
       "       [0., 0., 1., 0., 0.],\n",
       "       [0., 0., 0., 0., 1.],\n",
       "       [0., 1., 0., 0., 0.],\n",
       "       [0., 0., 1., 0., 0.]])"
      ]
     },
     "execution_count": 19,
     "metadata": {},
     "output_type": "execute_result"
    }
   ],
   "source": [
    "one_hot"
   ]
  },
  {
   "cell_type": "code",
   "execution_count": 20,
   "metadata": {},
   "outputs": [
    {
     "data": {
      "text/plain": [
       "array([[4., 2., 4., 1., 3.],\n",
       "       [4., 2., 5., 1., 2.],\n",
       "       [4., 2., 4., 1., 3.],\n",
       "       [4., 3., 4., 1., 2.],\n",
       "       [4., 2., 5., 1., 2.]])"
      ]
     },
     "execution_count": 20,
     "metadata": {},
     "output_type": "execute_result"
    }
   ],
   "source": [
    "y[ None ] + one_hot"
   ]
  },
  {
   "cell_type": "code",
   "execution_count": null,
   "metadata": {},
   "outputs": [],
   "source": []
  },
  {
   "cell_type": "code",
   "execution_count": null,
   "metadata": {},
   "outputs": [],
   "source": []
  },
  {
   "cell_type": "code",
   "execution_count": null,
   "metadata": {},
   "outputs": [],
   "source": []
  },
  {
   "cell_type": "code",
   "execution_count": null,
   "metadata": {},
   "outputs": [],
   "source": []
  },
  {
   "cell_type": "code",
   "execution_count": null,
   "metadata": {},
   "outputs": [],
   "source": []
  },
  {
   "cell_type": "code",
   "execution_count": null,
   "metadata": {},
   "outputs": [],
   "source": []
  },
  {
   "cell_type": "code",
   "execution_count": null,
   "metadata": {},
   "outputs": [],
   "source": []
  },
  {
   "cell_type": "code",
   "execution_count": null,
   "metadata": {},
   "outputs": [],
   "source": []
  },
  {
   "cell_type": "code",
   "execution_count": null,
   "metadata": {},
   "outputs": [],
   "source": []
  },
  {
   "cell_type": "code",
   "execution_count": null,
   "metadata": {},
   "outputs": [],
   "source": []
  },
  {
   "cell_type": "code",
   "execution_count": null,
   "metadata": {},
   "outputs": [],
   "source": []
  },
  {
   "cell_type": "code",
   "execution_count": null,
   "metadata": {},
   "outputs": [],
   "source": []
  },
  {
   "cell_type": "code",
   "execution_count": null,
   "metadata": {},
   "outputs": [],
   "source": []
  },
  {
   "cell_type": "code",
   "execution_count": null,
   "metadata": {},
   "outputs": [],
   "source": []
  },
  {
   "cell_type": "code",
   "execution_count": null,
   "metadata": {},
   "outputs": [],
   "source": []
  },
  {
   "cell_type": "code",
   "execution_count": 21,
   "metadata": {},
   "outputs": [],
   "source": [
    "groups = [ 0, 1, 2 ]\n",
    "d_latents = dict( zip( groups, [ 2, 3, 4 ] ) )\n",
    "d_obs = 4"
   ]
  },
  {
   "cell_type": "code",
   "execution_count": 22,
   "metadata": {},
   "outputs": [],
   "source": [
    "def graphToGroupGraph( graphs, dataPerNode, groupPerNode, with_fbs=False, random_latent_states=False, d_latents=None ):\n",
    "    assert isinstance( graphs, list )\n",
    "    group_graphs = []\n",
    "    for graph in graphs:\n",
    "\n",
    "        if( with_fbs ):\n",
    "            if( not isinstance( graph, Graph ) ):\n",
    "                graph, fbs = graph\n",
    "            else:\n",
    "                graph, fbs = graph, np.array( [] )\n",
    "\n",
    "        data = [ ( node, dataPerNode( node ) ) for node in graph.nodes ]\n",
    "        group = [ ( node, groupPerNode( node ) ) for node in graph.nodes ]\n",
    "        group_graph = GroupGraph.fromGraph( graph, data, group )\n",
    "\n",
    "        if( random_latent_states ):\n",
    "            assert d_latents is not None\n",
    "            for node in group_graph.nodes:\n",
    "                group = group_graph.groups[ node ]\n",
    "                possible_latent_states = np.array( list( set( np.random.choice( np.arange( d_latents[ group ] ), d_latents[ group ] - 1 ).tolist() ) ) )\n",
    "                group_graph.setPossibleLatentStates( node, possible_latent_states )\n",
    "\n",
    "        if( with_fbs ):\n",
    "            group_graphs.append( ( group_graph, fbs ) )\n",
    "        else:\n",
    "            group_graphs.append( group_graph )\n",
    "    return group_graphs\n",
    "\n",
    "def dataPerNode( node ):\n",
    "    return Categorical.generate( D=d_obs, size=1 )\n",
    "def groupPerNode( node ):\n",
    "    return Categorical.generate( D=len( groups ) )\n",
    "\n",
    "group_graphs = graphToGroupGraph( graphs, dataPerNode, groupPerNode, with_fbs=True )"
   ]
  },
  {
   "cell_type": "code",
   "execution_count": 23,
   "metadata": {},
   "outputs": [],
   "source": [
    "shapes = GroupGHMM.parameterShapes( group_graphs, d_latents={ 0:2, 1:3, 2:4 }, d_obs=4, groups=[ 0, 1, 2 ] )\n",
    "initial_shapes, transition_shapes, emission_shapes = shapes"
   ]
  },
  {
   "cell_type": "code",
   "execution_count": 24,
   "metadata": {},
   "outputs": [],
   "source": [
    "initial_priors = dict( ( group, np.ones( shape ) ) for group, shape in initial_shapes.items() )\n",
    "transition_priors = dict( ( group, [ np.ones( shape ) for shape in shapes ] ) for group, shapes in transition_shapes.items() )\n",
    "emission_prior = dict( ( group, np.ones( shape ) ) for group, shape in emission_shapes.items() )"
   ]
  },
  {
   "cell_type": "code",
   "execution_count": 25,
   "metadata": {
    "scrolled": false
   },
   "outputs": [],
   "source": [
    "# true_model = GroupGHMM( priors=( initial_priors, transition_priors, emission_prior ), method='EM' )"
   ]
  },
  {
   "cell_type": "code",
   "execution_count": 26,
   "metadata": {},
   "outputs": [],
   "source": [
    "# for i, ( graph, fbs ) in enumerate( group_graphs ):\n",
    "#     true_model.setGraphs( [ ( graph, fbs ) ] )\n",
    "#     _, data = true_model.sampleStates()\n",
    "#     graph.setNodeData( data.keys(), data.values() )"
   ]
  },
  {
   "cell_type": "code",
   "execution_count": 27,
   "metadata": {},
   "outputs": [],
   "source": [
    "# em_model    = GroupGHMM( group_graphs, priors=( initial_priors, transition_priors, emission_prior ), method='EM' )\n",
    "# gibbs_model = GroupGHMM( group_graphs, priors=( initial_priors, transition_priors, emission_prior ), method='Gibbs' )\n",
    "# cavi_model  = GroupGHMM( group_graphs, priors=( initial_priors, transition_priors, emission_prior ), method='CAVI' )\n",
    "# svi_model   = GroupGHMM( group_graphs, priors=( initial_priors, transition_priors, emission_prior ), method='SVI', step_size=0.1, minibatch_size=1 )"
   ]
  },
  {
   "cell_type": "code",
   "execution_count": 28,
   "metadata": {
    "scrolled": false
   },
   "outputs": [],
   "source": [
    "# cavi_model.fitStep()"
   ]
  },
  {
   "cell_type": "code",
   "execution_count": 29,
   "metadata": {
    "scrolled": false
   },
   "outputs": [],
   "source": [
    "# cavi_model.fitStep()"
   ]
  },
  {
   "cell_type": "code",
   "execution_count": null,
   "metadata": {},
   "outputs": [],
   "source": []
  },
  {
   "cell_type": "code",
   "execution_count": 30,
   "metadata": {},
   "outputs": [],
   "source": [
    "group_svae = GroupGSVAE( graphs=group_graphs[ :3 ], priors=( initial_priors, transition_priors ), d_obs=d_obs )"
   ]
  },
  {
   "cell_type": "code",
   "execution_count": 34,
   "metadata": {
    "scrolled": false
   },
   "outputs": [
    {
     "name": "stderr",
     "output_type": "stream",
     "text": [
      "/home/eddie/anaconda3/envs/GenModel/lib/python3.6/site-packages/autograd/numpy/numpy_vjps.py:444: FutureWarning: Using a non-tuple sequence for multidimensional indexing is deprecated; use `arr[tuple(seq)]` instead of `arr[seq]`. In the future this will be interpreted as an array index, `arr[np.array(seq)]`, which will result either in an error or a different result.\n",
      "  return lambda g: g[idxs]\n"
     ]
    },
    {
     "name": "stdout",
     "output_type": "stream",
     "text": [
      "i 0 loss Autograd ArrayBox with value 666.5478645538861\n"
     ]
    },
    {
     "name": "stderr",
     "output_type": "stream",
     "text": [
      "/home/eddie/anaconda3/envs/GenModel/lib/python3.6/site-packages/autograd/tracer.py:48: RuntimeWarning: overflow encountered in cosh\n",
      "  return f_raw(*args, **kwargs)\n",
      "/home/eddie/anaconda3/envs/GenModel/lib/python3.6/site-packages/autograd/numpy/numpy_vjps.py:88: RuntimeWarning: overflow encountered in square\n",
      "  defvjp(anp.tanh,   lambda ans, x : lambda g: g / anp.cosh(x) **2)\n"
     ]
    },
    {
     "name": "stdout",
     "output_type": "stream",
     "text": [
      "i 25 loss Autograd ArrayBox with value 729.7726157804339\n",
      "i 50 loss Autograd ArrayBox with value 708.2332843905117\n",
      "i 75 loss Autograd ArrayBox with value 625.0144292477235\n",
      "Done!\n"
     ]
    },
    {
     "data": {
      "text/plain": [
       "[<autograd.numpy.numpy_boxes.ArrayBox at 0x7fab883ba7c8>,\n",
       " <autograd.numpy.numpy_boxes.ArrayBox at 0x7fab6f014a88>,\n",
       " <autograd.numpy.numpy_boxes.ArrayBox at 0x7fab6eda37c8>,\n",
       " <autograd.numpy.numpy_boxes.ArrayBox at 0x7fab6eb31408>,\n",
       " <autograd.numpy.numpy_boxes.ArrayBox at 0x7fab6e83e148>,\n",
       " <autograd.numpy.numpy_boxes.ArrayBox at 0x7fab6e635dc8>,\n",
       " <autograd.numpy.numpy_boxes.ArrayBox at 0x7fab6e34fbc8>,\n",
       " <autograd.numpy.numpy_boxes.ArrayBox at 0x7fab6e0dd908>,\n",
       " <autograd.numpy.numpy_boxes.ArrayBox at 0x7fab6de69648>,\n",
       " <autograd.numpy.numpy_boxes.ArrayBox at 0x7fab6dbf8348>,\n",
       " <autograd.numpy.numpy_boxes.ArrayBox at 0x7fab6d906088>,\n",
       " <autograd.numpy.numpy_boxes.ArrayBox at 0x7fab6d687d88>,\n",
       " <autograd.numpy.numpy_boxes.ArrayBox at 0x7fab6d416ac8>,\n",
       " <autograd.numpy.numpy_boxes.ArrayBox at 0x7fab6d1a5808>,\n",
       " <autograd.numpy.numpy_boxes.ArrayBox at 0x7fab6cf35548>,\n",
       " <autograd.numpy.numpy_boxes.ArrayBox at 0x7fab6cc43288>,\n",
       " <autograd.numpy.numpy_boxes.ArrayBox at 0x7fab6c9c5f88>,\n",
       " <autograd.numpy.numpy_boxes.ArrayBox at 0x7fab6c753cc8>,\n",
       " <autograd.numpy.numpy_boxes.ArrayBox at 0x7fab6c4e0a08>,\n",
       " <autograd.numpy.numpy_boxes.ArrayBox at 0x7fab6c263708>,\n",
       " <autograd.numpy.numpy_boxes.ArrayBox at 0x7fab63fbf488>,\n",
       " <autograd.numpy.numpy_boxes.ArrayBox at 0x7fab63ccf1c8>,\n",
       " <autograd.numpy.numpy_boxes.ArrayBox at 0x7fab63a55ec8>,\n",
       " <autograd.numpy.numpy_boxes.ArrayBox at 0x7fab637e3c08>,\n",
       " <autograd.numpy.numpy_boxes.ArrayBox at 0x7fab63572948>,\n",
       " <autograd.numpy.numpy_boxes.ArrayBox at 0x7fab632fe648>,\n",
       " <autograd.numpy.numpy_boxes.ArrayBox at 0x7fab6300b448>,\n",
       " <autograd.numpy.numpy_boxes.ArrayBox at 0x7fab62d99188>,\n",
       " <autograd.numpy.numpy_boxes.ArrayBox at 0x7fab62b1ce88>,\n",
       " <autograd.numpy.numpy_boxes.ArrayBox at 0x7fab628abbc8>,\n",
       " <autograd.numpy.numpy_boxes.ArrayBox at 0x7fab6263a908>,\n",
       " <autograd.numpy.numpy_boxes.ArrayBox at 0x7fab62348648>,\n",
       " <autograd.numpy.numpy_boxes.ArrayBox at 0x7fab620d32c8>,\n",
       " <autograd.numpy.numpy_boxes.ArrayBox at 0x7fab61e63048>,\n",
       " <autograd.numpy.numpy_boxes.ArrayBox at 0x7fab61be5d48>,\n",
       " <autograd.numpy.numpy_boxes.ArrayBox at 0x7fab61973a88>,\n",
       " <autograd.numpy.numpy_boxes.ArrayBox at 0x7fab616837c8>,\n",
       " <autograd.numpy.numpy_boxes.ArrayBox at 0x7fab6140e508>,\n",
       " <autograd.numpy.numpy_boxes.ArrayBox at 0x7fab6119e248>,\n",
       " <autograd.numpy.numpy_boxes.ArrayBox at 0x7fab60f24f48>,\n",
       " <autograd.numpy.numpy_boxes.ArrayBox at 0x7fab60cb3c88>,\n",
       " <autograd.numpy.numpy_boxes.ArrayBox at 0x7fab609c19c8>,\n",
       " <autograd.numpy.numpy_boxes.ArrayBox at 0x7fab6074c708>,\n",
       " <autograd.numpy.numpy_boxes.ArrayBox at 0x7fab604da448>,\n",
       " <autograd.numpy.numpy_boxes.ArrayBox at 0x7fab60268188>,\n",
       " <autograd.numpy.numpy_boxes.ArrayBox at 0x7fab5ffeae88>,\n",
       " <autograd.numpy.numpy_boxes.ArrayBox at 0x7fab5fd75bc8>,\n",
       " <autograd.numpy.numpy_boxes.ArrayBox at 0x7fab5fa87908>,\n",
       " <autograd.numpy.numpy_boxes.ArrayBox at 0x7fab5f817648>,\n",
       " <autograd.numpy.numpy_boxes.ArrayBox at 0x7fab5f5a5388>,\n",
       " <autograd.numpy.numpy_boxes.ArrayBox at 0x7fab5f3320c8>,\n",
       " <autograd.numpy.numpy_boxes.ArrayBox at 0x7fab5f0a4d88>,\n",
       " <autograd.numpy.numpy_boxes.ArrayBox at 0x7fab5edc3b08>,\n",
       " <autograd.numpy.numpy_boxes.ArrayBox at 0x7fab5eb50848>,\n",
       " <autograd.numpy.numpy_boxes.ArrayBox at 0x7fab5e8de588>,\n",
       " <autograd.numpy.numpy_boxes.ArrayBox at 0x7fab5e66c2c8>,\n",
       " <autograd.numpy.numpy_boxes.ArrayBox at 0x7fab5e3eefc8>,\n",
       " <autograd.numpy.numpy_boxes.ArrayBox at 0x7fab5e17cd08>,\n",
       " <autograd.numpy.numpy_boxes.ArrayBox at 0x7fab5de8aa48>,\n",
       " <autograd.numpy.numpy_boxes.ArrayBox at 0x7fab5dc19788>,\n",
       " <autograd.numpy.numpy_boxes.ArrayBox at 0x7fab5d9a64c8>,\n",
       " <autograd.numpy.numpy_boxes.ArrayBox at 0x7fab5d736208>,\n",
       " <autograd.numpy.numpy_boxes.ArrayBox at 0x7fab5d4bcf08>,\n",
       " <autograd.numpy.numpy_boxes.ArrayBox at 0x7fab5d1c9c48>,\n",
       " <autograd.numpy.numpy_boxes.ArrayBox at 0x7fab5cf41888>,\n",
       " <autograd.numpy.numpy_boxes.ArrayBox at 0x7fab5cce56c8>,\n",
       " <autograd.numpy.numpy_boxes.ArrayBox at 0x7fab5ca72408>,\n",
       " <autograd.numpy.numpy_boxes.ArrayBox at 0x7fab5c780148>,\n",
       " <autograd.numpy.numpy_boxes.ArrayBox at 0x7fab5c502e48>,\n",
       " <autograd.numpy.numpy_boxes.ArrayBox at 0x7fab5c292b88>,\n",
       " <autograd.numpy.numpy_boxes.ArrayBox at 0x7fab5c01e8c8>,\n",
       " <autograd.numpy.numpy_boxes.ArrayBox at 0x7fab5bdab608>,\n",
       " <autograd.numpy.numpy_boxes.ArrayBox at 0x7fab5bb36348>,\n",
       " <autograd.numpy.numpy_boxes.ArrayBox at 0x7fab5b846088>,\n",
       " <autograd.numpy.numpy_boxes.ArrayBox at 0x7fab5b5cdd88>,\n",
       " <autograd.numpy.numpy_boxes.ArrayBox at 0x7fab5b35cac8>,\n",
       " <autograd.numpy.numpy_boxes.ArrayBox at 0x7fab5b0ea888>,\n",
       " <autograd.numpy.numpy_boxes.ArrayBox at 0x7fab5ae765c8>,\n",
       " <autograd.numpy.numpy_boxes.ArrayBox at 0x7fab5ab86308>,\n",
       " <autograd.numpy.numpy_boxes.ArrayBox at 0x7fab5a916048>,\n",
       " <autograd.numpy.numpy_boxes.ArrayBox at 0x7fab5a699d48>,\n",
       " <autograd.numpy.numpy_boxes.ArrayBox at 0x7fab5a428a08>,\n",
       " <autograd.numpy.numpy_boxes.ArrayBox at 0x7fab5a1b5748>,\n",
       " <autograd.numpy.numpy_boxes.ArrayBox at 0x7fab59ec2488>,\n",
       " <autograd.numpy.numpy_boxes.ArrayBox at 0x7fab59c4f1c8>,\n",
       " <autograd.numpy.numpy_boxes.ArrayBox at 0x7fab599d2ec8>,\n",
       " <autograd.numpy.numpy_boxes.ArrayBox at 0x7fab5975ec08>,\n",
       " <autograd.numpy.numpy_boxes.ArrayBox at 0x7fab594ec948>,\n",
       " <autograd.numpy.numpy_boxes.ArrayBox at 0x7fab5927a688>,\n",
       " <autograd.numpy.numpy_boxes.ArrayBox at 0x7fab58f883c8>,\n",
       " <autograd.numpy.numpy_boxes.ArrayBox at 0x7fab58d15108>,\n",
       " <autograd.numpy.numpy_boxes.ArrayBox at 0x7fab58a9ae08>,\n",
       " <autograd.numpy.numpy_boxes.ArrayBox at 0x7fab58829b48>,\n",
       " <autograd.numpy.numpy_boxes.ArrayBox at 0x7fab585b7888>,\n",
       " <autograd.numpy.numpy_boxes.ArrayBox at 0x7fab582c65c8>,\n",
       " <autograd.numpy.numpy_boxes.ArrayBox at 0x7fab58055308>,\n",
       " <autograd.numpy.numpy_boxes.ArrayBox at 0x7fab57de2048>,\n",
       " <autograd.numpy.numpy_boxes.ArrayBox at 0x7fab57b68d48>,\n",
       " <autograd.numpy.numpy_boxes.ArrayBox at 0x7fab578f5a88>,\n",
       " <autograd.numpy.numpy_boxes.ArrayBox at 0x7fab576057c8>]"
      ]
     },
     "execution_count": 34,
     "metadata": {},
     "output_type": "execute_result"
    }
   ],
   "source": [
    "group_svae.fit()"
   ]
  },
  {
   "cell_type": "code",
   "execution_count": null,
   "metadata": {},
   "outputs": [],
   "source": []
  },
  {
   "cell_type": "code",
   "execution_count": null,
   "metadata": {},
   "outputs": [],
   "source": []
  },
  {
   "cell_type": "code",
   "execution_count": null,
   "metadata": {},
   "outputs": [],
   "source": []
  },
  {
   "cell_type": "code",
   "execution_count": null,
   "metadata": {},
   "outputs": [],
   "source": []
  },
  {
   "cell_type": "code",
   "execution_count": null,
   "metadata": {},
   "outputs": [],
   "source": []
  },
  {
   "cell_type": "code",
   "execution_count": null,
   "metadata": {},
   "outputs": [],
   "source": []
  },
  {
   "cell_type": "code",
   "execution_count": null,
   "metadata": {},
   "outputs": [],
   "source": []
  },
  {
   "cell_type": "code",
   "execution_count": null,
   "metadata": {},
   "outputs": [],
   "source": []
  },
  {
   "cell_type": "code",
   "execution_count": null,
   "metadata": {},
   "outputs": [],
   "source": []
  },
  {
   "cell_type": "code",
   "execution_count": null,
   "metadata": {},
   "outputs": [],
   "source": []
  }
 ],
 "metadata": {
  "kernelspec": {
   "display_name": "Python [conda env:GenModel]",
   "language": "python",
   "name": "conda-env-GenModel-py"
  },
  "language_info": {
   "codemirror_mode": {
    "name": "ipython",
    "version": 3
   },
   "file_extension": ".py",
   "mimetype": "text/x-python",
   "name": "python",
   "nbconvert_exporter": "python",
   "pygments_lexer": "ipython3",
   "version": "3.6.6"
  }
 },
 "nbformat": 4,
 "nbformat_minor": 2
}
