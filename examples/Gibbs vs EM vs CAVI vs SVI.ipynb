{
 "cells": [
  {
   "cell_type": "code",
   "execution_count": 1,
   "metadata": {},
   "outputs": [
    {
     "data": {
      "text/html": [
       "<style>.container { width:100% !important; }</style>"
      ],
      "text/plain": [
       "<IPython.core.display.HTML object>"
      ]
     },
     "metadata": {},
     "output_type": "display_data"
    }
   ],
   "source": [
    "import os\n",
    "import subprocess\n",
    "import sys\n",
    "import numpy as np\n",
    "import itertools\n",
    "import json\n",
    "from tqdm import tqdm\n",
    "from IPython.display import display, HTML\n",
    "import time\n",
    "import copy\n",
    "from collections import namedtuple\n",
    "from functools import partial\n",
    "import matplotlib.pyplot as plt\n",
    "top_level_dir = '/'.join( os.getcwd().split( '/' )[ :-2 ] )\n",
    "if top_level_dir not in sys.path:\n",
    "    sys.path.append( top_level_dir )\n",
    "%load_ext autoreload\n",
    "%autoreload 2\n",
    "display(HTML(\"<style>.container { width:100% !important; }</style>\"))"
   ]
  },
  {
   "cell_type": "markdown",
   "metadata": {},
   "source": [
    "# This notebook will look at the convergence rate for different kinds of graphs\n",
    "\\*Even though gibbs isn't the best choice for getting a good marginal value, will include the plot of the marginal values that are sampled anyway"
   ]
  },
  {
   "cell_type": "code",
   "execution_count": 2,
   "metadata": {},
   "outputs": [],
   "source": [
    "from GenModels.GM.Distributions import Categorical, Dirichlet, TensorTransition, TensorTransitionDirichletPrior\n",
    "from GenModels.GM.Models.DiscreteGraphModels import *\n",
    "from GenModels.GM.States.GraphicalMessagePassing import *"
   ]
  },
  {
   "cell_type": "code",
   "execution_count": 3,
   "metadata": {},
   "outputs": [],
   "source": [
    "graphs = []\n",
    "for _ in range( 50 ):\n",
    "    line = DataGraph()\n",
    "    for i in range( 1, 30 ):\n",
    "        line.addEdge( parents=[ i-1 ], children=[ i ] )\n",
    "    graphs.append( ( line, np.array( [] ) ) )"
   ]
  },
  {
   "cell_type": "code",
   "execution_count": 54,
   "metadata": {},
   "outputs": [],
   "source": [
    "graphs = [ ( graph1(), np.array( [] ) ),\n",
    "           ( graph2(), np.array( [] ) ),\n",
    "           ( graph3(), np.array( [] ) ),\n",
    "           ( graph4(), np.array( [] ) ),\n",
    "           ( graph5(), np.array( [] ) ),\n",
    "           ( graph6(), np.array( [] ) ),\n",
    "           ( graph7(), np.array( [] ) ),\n",
    "           cycleGraph1(),\n",
    "           cycleGraph2(),\n",
    "           cycleGraph3(),\n",
    "           cycleGraph7(),\n",
    "           cycleGraph8(),\n",
    "           cycleGraph10(),\n",
    "           cycleGraph11(),\n",
    "           cycleGraph12() ]\n",
    "graphs = graphs*3"
   ]
  },
  {
   "cell_type": "code",
   "execution_count": 55,
   "metadata": {},
   "outputs": [
    {
     "name": "stdout",
     "output_type": "stream",
     "text": [
      "348\n"
     ]
    }
   ],
   "source": [
    "total_nodes = sum( [ len( g.nodes ) for g, _ in graphs ] )\n",
    "print( total_nodes )"
   ]
  },
  {
   "cell_type": "code",
   "execution_count": null,
   "metadata": {},
   "outputs": [],
   "source": []
  },
  {
   "cell_type": "code",
   "execution_count": 56,
   "metadata": {},
   "outputs": [],
   "source": [
    "initial_shape, transition_shapes, emission_shape = GHMM.parameterShapes( graphs, d_latent=3, d_obs=4 )\n",
    "initial_priors = np.ones( initial_shape )\n",
    "transition_priors = [ np.ones( shape ) for shape in transition_shapes ]\n",
    "emission_prior = np.ones( emission_shape )"
   ]
  },
  {
   "cell_type": "code",
   "execution_count": 57,
   "metadata": {},
   "outputs": [
    {
     "name": "stdout",
     "output_type": "stream",
     "text": [
      "[0.43035893 0.03301662 0.53662445]\n"
     ]
    }
   ],
   "source": [
    "true_model = GHMM( priors=( initial_priors, transition_priors, emission_prior ), method='EM' )\n",
    "for i, ( graph, fbs ) in enumerate( graphs ):\n",
    "    true_model.setGraphs( [ ( graph, fbs ) ] )\n",
    "    _, data = true_model.sampleStates()\n",
    "    graph.setNodeData( data.keys(), data.values() )"
   ]
  },
  {
   "cell_type": "code",
   "execution_count": null,
   "metadata": {},
   "outputs": [],
   "source": [
    "print( true_model.params.initial_dist.pi )\n",
    "print( [ dist.pi for dist in true_model.params.transition_dists ] )\n",
    "print( true_model.params.emission_dist.pi )"
   ]
  },
  {
   "cell_type": "code",
   "execution_count": null,
   "metadata": {},
   "outputs": [],
   "source": []
  },
  {
   "cell_type": "markdown",
   "metadata": {},
   "source": [
    "# Test 1 - Deep graphs without cycles"
   ]
  },
  {
   "cell_type": "code",
   "execution_count": 59,
   "metadata": {},
   "outputs": [
    {
     "name": "stdout",
     "output_type": "stream",
     "text": [
      "[0.41126425 0.11131832 0.47741742]\n",
      "[0.00258729 0.65755807 0.33985463]\n",
      "[0.82311569 0.00858291 0.1683014 ]\n",
      "[0.07173533 0.42766778 0.50059689]\n"
     ]
    }
   ],
   "source": [
    "em_model    = GHMM( graphs, priors=( initial_priors, transition_priors, emission_prior ), method='EM' )\n",
    "gibbs_model = GHMM( graphs, priors=( initial_priors, transition_priors, emission_prior ), method='Gibbs' )\n",
    "cavi_model  = GHMM( graphs, priors=( initial_priors, transition_priors, emission_prior ), method='CAVI' )\n",
    "svi_model   = GHMM( graphs, priors=( initial_priors, transition_priors, emission_prior ), method='SVI', step_size=0.1, minibatch_size=1 )"
   ]
  },
  {
   "cell_type": "code",
   "execution_count": 39,
   "metadata": {
    "scrolled": true
   },
   "outputs": [
    {
     "name": "stdout",
     "output_type": "stream",
     "text": [
      "[-1935.1303228355446, -2198.41258176518, -3352.081566997838, -67.0416313399567]\n",
      "[-1681.1511867208105, -2355.719794585641, -1719.3718480263306, -50.83733655468595]\n",
      "[-1679.111956243593, -2703.199634366879, -1719.3718480263299, -53.70372164052447]\n",
      "[-1677.7179033989103, -2133.032132207845, -1719.3718480263296, -53.62845716513434]\n",
      "[-1676.7026984296515, -1975.3358020878509, -1719.3718480263299, -57.084524821491456]\n",
      "[-1675.922515824164, -2459.9914340715, -1719.371848026331, -68.82270388300654]\n",
      "[-1675.2929581080402, -2744.3893017717696, -1719.3718480263303, -57.54929608749237]\n",
      "[-1674.761311430518, -3090.817422195563, -1719.3718480263317, -67.11553474124446]\n",
      "[-1674.2930952833265, -2268.8753438981444, -1719.3718480263296, -63.10729195720911]\n",
      "[-1673.8650657967655, -2396.345522528398, -1719.3718480263285, -66.69459355874562]\n"
     ]
    }
   ],
   "source": [
    "values = []\n",
    "it = np.arange( 10 )\n",
    "for _ in it:\n",
    "    em_marginal    = em_model.fitStep()\n",
    "    gibbs_marginal = gibbs_model.fitStep( return_marginal=True )\n",
    "    elbo_cavi      = cavi_model.fitStep()\n",
    "    elbo_svi       = svi_model.fitStep()\n",
    "    values.append( [ em_marginal, gibbs_marginal, elbo_cavi, elbo_svi ] )\n",
    "\n",
    "    print( values[ -1 ] )"
   ]
  },
  {
   "cell_type": "code",
   "execution_count": 40,
   "metadata": {},
   "outputs": [],
   "source": [
    "y1, y2, y3, y4 = zip( *values )"
   ]
  },
  {
   "cell_type": "code",
   "execution_count": 41,
   "metadata": {},
   "outputs": [
    {
     "data": {
      "image/png": "[encoded data removed]",
      "text/plain": [
       "<Figure size 432x288 with 1 Axes>"
      ]
     },
     "metadata": {},
     "output_type": "display_data"
    }
   ],
   "source": [
    "plt.plot( it[ :10 ], y1[ :10 ], color='red', label='em' )\n",
    "plt.plot( it[ :10 ], y2[ :10 ], color='blue', label='gibbs' )\n",
    "plt.plot( it[ :10 ], y3[ :10 ], color='green', label='elbo' )\n",
    "plt.plot( it[ :10 ], y4[ :10 ], color='purple', label='svi' )\n",
    "plt.show()"
   ]
  },
  {
   "cell_type": "code",
   "execution_count": null,
   "metadata": {},
   "outputs": [],
   "source": []
  },
  {
   "cell_type": "code",
   "execution_count": null,
   "metadata": {},
   "outputs": [],
   "source": []
  },
  {
   "cell_type": "code",
   "execution_count": 70,
   "metadata": {},
   "outputs": [],
   "source": [
    "groups = [ 0, 1, 2 ]\n",
    "d_latents = dict( zip( groups, [ 2, 3, 4 ] ) )\n",
    "d_obs = 4"
   ]
  },
  {
   "cell_type": "code",
   "execution_count": 71,
   "metadata": {},
   "outputs": [],
   "source": [
    "def graphToGroupGraph( graphs, dataPerNode, groupPerNode, with_fbs=False, random_latent_states=False, d_latents=None ):\n",
    "    assert isinstance( graphs, list )\n",
    "    group_graphs = []\n",
    "    for graph in graphs:\n",
    "\n",
    "        if( with_fbs ):\n",
    "            if( not isinstance( graph, Graph ) ):\n",
    "                graph, fbs = graph\n",
    "            else:\n",
    "                graph, fbs = graph, np.array( [] )\n",
    "\n",
    "        data = [ ( node, dataPerNode( node ) ) for node in graph.nodes ]\n",
    "        group = [ ( node, groupPerNode( node ) ) for node in graph.nodes ]\n",
    "        group_graph = GroupGraph.fromGraph( graph, data, group )\n",
    "\n",
    "        if( random_latent_states ):\n",
    "            assert d_latents is not None\n",
    "            for node in group_graph.nodes:\n",
    "                group = group_graph.groups[ node ]\n",
    "                possible_latent_states = np.array( list( set( np.random.choice( np.arange( d_latents[ group ] ), d_latents[ group ] - 1 ).tolist() ) ) )\n",
    "                group_graph.setPossibleLatentStates( node, possible_latent_states )\n",
    "\n",
    "        if( with_fbs ):\n",
    "            group_graphs.append( ( group_graph, fbs ) )\n",
    "        else:\n",
    "            group_graphs.append( group_graph )\n",
    "    return group_graphs\n",
    "\n",
    "def dataPerNode( node ):\n",
    "    return Categorical.generate( D=d_obs, size=1 )\n",
    "def groupPerNode( node ):\n",
    "    return Categorical.generate( D=len( groups ) )\n",
    "\n",
    "group_graphs = graphToGroupGraph( graphs, dataPerNode, groupPerNode, with_fbs=True )"
   ]
  },
  {
   "cell_type": "code",
   "execution_count": 72,
   "metadata": {},
   "outputs": [],
   "source": [
    "shapes = GroupGHMM.parameterShapes( group_graphs, d_latents={ 0:2, 1:3, 2:4 }, d_obs=4, groups=[ 0, 1, 2 ] )\n",
    "initial_shapes, transition_shapes, emission_shapes = shapes"
   ]
  },
  {
   "cell_type": "code",
   "execution_count": 73,
   "metadata": {},
   "outputs": [],
   "source": [
    "initial_priors = dict( ( group, np.ones( shape ) ) for group, shape in initial_shapes.items() )\n",
    "transition_priors = dict( ( group, [ np.ones( shape ) for shape in shapes ] ) for group, shapes in transition_shapes.items() )\n",
    "emission_prior = dict( ( group, np.ones( shape ) ) for group, shape in emission_shapes.items() )"
   ]
  },
  {
   "cell_type": "code",
   "execution_count": 74,
   "metadata": {
    "scrolled": false
   },
   "outputs": [],
   "source": [
    "true_model = GroupGHMM( priors=( initial_priors, transition_priors, emission_prior ), method='EM' )"
   ]
  },
  {
   "cell_type": "code",
   "execution_count": 75,
   "metadata": {},
   "outputs": [],
   "source": [
    "for i, ( graph, fbs ) in enumerate( group_graphs ):\n",
    "    true_model.setGraphs( [ ( graph, fbs ) ] )\n",
    "    _, data = true_model.sampleStates()\n",
    "    graph.setNodeData( data.keys(), data.values() )"
   ]
  },
  {
   "cell_type": "code",
   "execution_count": 76,
   "metadata": {},
   "outputs": [],
   "source": [
    "em_model    = GroupGHMM( group_graphs, priors=( initial_priors, transition_priors, emission_prior ), method='EM' )\n",
    "gibbs_model = GroupGHMM( group_graphs, priors=( initial_priors, transition_priors, emission_prior ), method='Gibbs' )\n",
    "cavi_model  = GroupGHMM( group_graphs, priors=( initial_priors, transition_priors, emission_prior ), method='CAVI' )\n",
    "svi_model   = GroupGHMM( group_graphs, priors=( initial_priors, transition_priors, emission_prior ), method='SVI', step_size=0.1, minibatch_size=1 )"
   ]
  },
  {
   "cell_type": "code",
   "execution_count": 77,
   "metadata": {
    "scrolled": false
   },
   "outputs": [
    {
     "data": {
      "text/plain": [
       "-726.6312738823931"
      ]
     },
     "execution_count": 77,
     "metadata": {},
     "output_type": "execute_result"
    }
   ],
   "source": [
    "cavi_model.fitStep()"
   ]
  },
  {
   "cell_type": "code",
   "execution_count": 78,
   "metadata": {
    "scrolled": false
   },
   "outputs": [
    {
     "data": {
      "text/plain": [
       "-522.881220636551"
      ]
     },
     "execution_count": 78,
     "metadata": {},
     "output_type": "execute_result"
    }
   ],
   "source": [
    "cavi_model.fitStep()"
   ]
  },
  {
   "cell_type": "code",
   "execution_count": null,
   "metadata": {},
   "outputs": [],
   "source": []
  },
  {
   "cell_type": "code",
   "execution_count": null,
   "metadata": {},
   "outputs": [],
   "source": []
  },
  {
   "cell_type": "code",
   "execution_count": null,
   "metadata": {},
   "outputs": [],
   "source": []
  },
  {
   "cell_type": "code",
   "execution_count": null,
   "metadata": {},
   "outputs": [],
   "source": []
  },
  {
   "cell_type": "code",
   "execution_count": null,
   "metadata": {},
   "outputs": [],
   "source": []
  },
  {
   "cell_type": "markdown",
   "metadata": {},
   "source": [
    "# Test 2 - Wide graphs without cycles"
   ]
  },
  {
   "cell_type": "code",
   "execution_count": null,
   "metadata": {},
   "outputs": [],
   "source": []
  },
  {
   "cell_type": "code",
   "execution_count": null,
   "metadata": {},
   "outputs": [],
   "source": []
  },
  {
   "cell_type": "code",
   "execution_count": null,
   "metadata": {},
   "outputs": [],
   "source": []
  },
  {
   "cell_type": "code",
   "execution_count": null,
   "metadata": {},
   "outputs": [],
   "source": []
  },
  {
   "cell_type": "markdown",
   "metadata": {},
   "source": [
    "# Test 3 - Deep graphs with cycles"
   ]
  },
  {
   "cell_type": "code",
   "execution_count": null,
   "metadata": {},
   "outputs": [],
   "source": []
  },
  {
   "cell_type": "code",
   "execution_count": null,
   "metadata": {},
   "outputs": [],
   "source": []
  },
  {
   "cell_type": "code",
   "execution_count": null,
   "metadata": {},
   "outputs": [],
   "source": []
  },
  {
   "cell_type": "markdown",
   "metadata": {},
   "source": [
    "# Test 4 - Wide graphs with cycles"
   ]
  },
  {
   "cell_type": "code",
   "execution_count": null,
   "metadata": {},
   "outputs": [],
   "source": []
  }
 ],
 "metadata": {
  "kernelspec": {
   "display_name": "Python [conda env:GenModel]",
   "language": "python",
   "name": "conda-env-GenModel-py"
  },
  "language_info": {
   "codemirror_mode": {
    "name": "ipython",
    "version": 3
   },
   "file_extension": ".py",
   "mimetype": "text/x-python",
   "name": "python",
   "nbconvert_exporter": "python",
   "pygments_lexer": "ipython3",
   "version": "3.6.6"
  }
 },
 "nbformat": 4,
 "nbformat_minor": 2
}
