{
 "cells": [
  {
   "cell_type": "code",
   "execution_count": 9,
   "metadata": {},
   "outputs": [],
   "source": [
    "import numpy as np\n",
    "import os\n",
    "import sys\n",
    "import scipy\n",
    "import numpy as np\n",
    "import autograd.numpy as anp\n",
    "import autograd\n",
    "from functools import partial, namedtuple\n",
    "import itertools\n",
    "from autograd.extend import primitive, defvjp\n",
    "from autograd import jacobian as jac"
   ]
  },
  {
   "cell_type": "code",
   "execution_count": 10,
   "metadata": {},
   "outputs": [],
   "source": [
    "top_level_dir = '/'.join( os.getcwd().split( '/' )[ :-2 ] )\n",
    "if top_level_dir not in sys.path:\n",
    "    sys.path.append( top_level_dir )"
   ]
  },
  {
   "cell_type": "code",
   "execution_count": 11,
   "metadata": {},
   "outputs": [],
   "source": [
    "def logsumexp( v, axis=0 ):\n",
    "    max_v = anp.max( v )\n",
    "    return anp.log( anp.sum( anp.exp( v - max_v ), axis=axis ) ) + max_v\n",
    "\n",
    "def logsumexp_vjp(ans, x):\n",
    "    x_shape = x.shape\n",
    "    return lambda g: anp.full(x_shape, g) * anp.exp(x - np.full(x_shape, ans))\n",
    "defvjp(logsumexp, logsumexp_vjp)"
   ]
  },
  {
   "cell_type": "code",
   "execution_count": 12,
   "metadata": {},
   "outputs": [],
   "source": [
    "def gumbelSample( shape, eps=1e-8 ):\n",
    "    u = anp.random.random( shape )\n",
    "    return -anp.log( -anp.log( u + eps ) + eps )\n",
    "def gumbelSoftmaxSample( logits, g=None, temp=1.0 ):\n",
    "    if( g is None ):\n",
    "        g = gumbelSample( logits.shape )\n",
    "    y = logits + g\n",
    "    ans = anp.exp( y ) / temp\n",
    "    return ans / ans.sum()"
   ]
  },
  {
   "cell_type": "code",
   "execution_count": 13,
   "metadata": {},
   "outputs": [],
   "source": [
    "def alphas( theta ):\n",
    "    T, K = theta.L.shape\n",
    "    alpha = []\n",
    "    alpha.append( theta.pi0 + theta.L[ 0 ] )\n",
    "    for t in range( 1, T ):\n",
    "        alpha.append( logsumexp( alpha[ -1 ][ :, None ] + theta.pi, axis=0 ) + theta.L[ t ] )\n",
    "    return anp.array( alpha )\n",
    "\n",
    "def betas( theta ):\n",
    "    T, K = theta.L.shape\n",
    "    beta = []\n",
    "    beta.append( anp.zeros( K ) )\n",
    "    for t in reversed( range( 0, T - 1 ) ):\n",
    "        beta.append( logsumexp( beta[ -1 ] + theta.pi + theta.L[ t + 1 ], axis=1 ) )\n",
    "    return anp.array( list( reversed( beta ) ) )\n",
    "\n",
    "def joints( alpha, beta ):\n",
    "    joints = []\n",
    "    for t in range( T - 1 ):\n",
    "        joints.append( alpha[ t ][ :, None ] + pi + L[ t + 1 ] + beta[ t + 1 ] )\n",
    "    return anp.array( joints )\n",
    "\n",
    "def predictive( alpha, beta ):\n",
    "    T, d_latent = alpha.shape\n",
    "    joint = joints( alpha, beta )\n",
    "    return joint - anp.reshape( ( alpha + beta )[ :-1 ], ( T-1, d_latent, 1 ) )\n",
    "\n",
    "def sampleX( alpha, beta ):\n",
    "    T, K = alpha.shape\n",
    "    log_z = logsumexp( alpha[ -1 ] )\n",
    "    \n",
    "    preds = predictive( alpha, beta )\n",
    "    x_samples = []\n",
    "    \n",
    "    x_samples.append( alpha[ 0 ] + beta[ 0 ] - log_z )\n",
    "    \n",
    "    for t, p in enumerate( preds ):\n",
    "        logits = logsumexp( p + x_samples[ -1 ], axis=1 )\n",
    "        x_samples.append( anp.log( gumbelSoftmaxSample( logits ) ) )\n",
    "        \n",
    "    return anp.array( x_samples )\n",
    "\n",
    "def hmmSamples( theta ):\n",
    "    alpha, beta = alphas( theta ), betas( theta )\n",
    "    return sampleX( alpha, beta )\n",
    "\n",
    "def neuralNet( x_samples, theta ):\n",
    "    \n",
    "    N = theta.d_latent * theta.d_obs\n",
    "    W = anp.arange( N ).reshape( ( theta.d_latent, theta.d_obs ) )\n",
    "    \n",
    "    y_dist = anp.einsum( 'ij,ti->tj', W, x_samples )\n",
    "    probs = y_dist[ anp.arange( theta.T ), theta.y ]\n",
    "    return anp.sum( probs )"
   ]
  },
  {
   "cell_type": "code",
   "execution_count": 14,
   "metadata": {},
   "outputs": [],
   "source": [
    "Theta = namedtuple( 'Theta', [ 'pi0', 'pi', 'L', 'T', 'd_latent', 'd_obs', 'y' ] )\n",
    "T = 3\n",
    "d_latent = 3\n",
    "d_obs = 2\n",
    "y = np.random.choice( d_obs, size=T )"
   ]
  },
  {
   "cell_type": "code",
   "execution_count": 15,
   "metadata": {},
   "outputs": [],
   "source": [
    "pi0 = np.random.random( d_latent )\n",
    "pi = np.random.random( ( d_latent, d_latent ) )\n",
    "pi0 = np.log( pi0 )\n",
    "pi = np.log( pi )\n",
    "L = np.random.random( ( d_latent, d_obs ) )\n",
    "L = L.T[ y ]"
   ]
  },
  {
   "cell_type": "code",
   "execution_count": 17,
   "metadata": {},
   "outputs": [],
   "source": [
    "def forAG( func ):\n",
    "    def wrapper( _L ):\n",
    "        theta = Theta( pi0, pi, _L, T, d_latent, d_obs, y )\n",
    "        return func( theta )\n",
    "    return wrapper"
   ]
  },
  {
   "cell_type": "code",
   "execution_count": 33,
   "metadata": {},
   "outputs": [],
   "source": [
    "@forAG\n",
    "def alphasAG( theta ):\n",
    "    return alphas( theta )\n",
    "\n",
    "@forAG\n",
    "def betasAG( theta ):\n",
    "    return betas( theta )\n",
    "\n",
    "@forAG\n",
    "def jointsAG( theta ):\n",
    "    return joints( alphas( theta ), betas( theta ) )\n",
    "\n",
    "@forAG\n",
    "def predictiveAG( theta ):\n",
    "    return predictive( alphas( theta ), betas( theta ) )\n",
    "\n",
    "@forAG\n",
    "def sampleXAG( theta ):\n",
    "    return sampleX( alphas( theta ), betas( theta ) )\n",
    "\n",
    "@forAG\n",
    "def hmmSamplesAG( theta ):\n",
    "    return hmmSamples( theta )\n",
    "\n",
    "@forAG\n",
    "def neuralNetAG( theta ):\n",
    "    x_samples = sampleX( alphas( theta ), betas( theta ) )\n",
    "    return neuralNet( x_samples, theta )"
   ]
  },
  {
   "cell_type": "code",
   "execution_count": 34,
   "metadata": {},
   "outputs": [],
   "source": [
    "gumb = gumbelSample( ( T, d_latent ) )"
   ]
  },
  {
   "cell_type": "code",
   "execution_count": 35,
   "metadata": {},
   "outputs": [
    {
     "data": {
      "text/plain": [
       "array([[-0.4403543 , -0.29535462,  0.73570893],\n",
       "       [ 0.04340087, -0.19661872,  0.15321785],\n",
       "       [ 0.15411257, -0.50888753,  0.35477496]])"
      ]
     },
     "execution_count": 35,
     "metadata": {},
     "output_type": "execute_result"
    }
   ],
   "source": [
    "jac( neuralNetAG )( L )"
   ]
  },
  {
   "cell_type": "code",
   "execution_count": null,
   "metadata": {},
   "outputs": [],
   "source": []
  },
  {
   "cell_type": "code",
   "execution_count": null,
   "metadata": {},
   "outputs": [],
   "source": []
  },
  {
   "cell_type": "code",
   "execution_count": null,
   "metadata": {},
   "outputs": [],
   "source": []
  },
  {
   "cell_type": "code",
   "execution_count": null,
   "metadata": {},
   "outputs": [],
   "source": []
  },
  {
   "cell_type": "code",
   "execution_count": null,
   "metadata": {},
   "outputs": [],
   "source": []
  }
 ],
 "metadata": {
  "kernelspec": {
   "display_name": "Python [conda env:GenModel]",
   "language": "python",
   "name": "conda-env-GenModel-py"
  },
  "language_info": {
   "codemirror_mode": {
    "name": "ipython",
    "version": 3
   },
   "file_extension": ".py",
   "mimetype": "text/x-python",
   "name": "python",
   "nbconvert_exporter": "python",
   "pygments_lexer": "ipython3",
   "version": "3.6.6"
  }
 },
 "nbformat": 4,
 "nbformat_minor": 2
}
