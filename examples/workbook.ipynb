{
 "cells": [
  {
   "cell_type": "code",
   "execution_count": 1,
   "metadata": {},
   "outputs": [],
   "source": [
    "import numpy as np\n",
    "import os\n",
    "import sys\n",
    "import scipy"
   ]
  },
  {
   "cell_type": "code",
   "execution_count": 2,
   "metadata": {},
   "outputs": [],
   "source": [
    "top_level_dir = '/'.join( os.getcwd().split( '/' )[ :-2 ] )\n",
    "if top_level_dir not in sys.path:\n",
    "    sys.path.append( top_level_dir )"
   ]
  },
  {
   "cell_type": "code",
   "execution_count": 3,
   "metadata": {},
   "outputs": [],
   "source": [
    "from GenModels.GM.Distributions import TensorNormal, TensorRegression\n",
    "from GenModels.GM.Distributions import InverseWishart, Normal"
   ]
  },
  {
   "cell_type": "code",
   "execution_count": 40,
   "metadata": {},
   "outputs": [],
   "source": [
    "sigma = InverseWishart.generate( D=2 )\n",
    "sigma_inv = np.linalg.inv( sigma )\n",
    "M = np.random.random( ( 2, 3, 4, 5 ) )\n",
    "a = np.random.random( 2 )\n",
    "b = np.random.random( 3 )\n",
    "c = np.random.random( 4 )\n",
    "d = np.random.random( 5 )\n",
    "y = np.random.random( 2 )"
   ]
  },
  {
   "cell_type": "markdown",
   "metadata": {},
   "source": [
    "# Check that J and h can be computed as expected"
   ]
  },
  {
   "cell_type": "code",
   "execution_count": 37,
   "metadata": {},
   "outputs": [],
   "source": [
    "J = -0.5*np.einsum('em,abcd,ijkl,a,b,i,j',sigma_inv,M,M,a,b,a,b).reshape(40,40)"
   ]
  },
  {
   "cell_type": "code",
   "execution_count": 43,
   "metadata": {},
   "outputs": [],
   "source": [
    "J_inv = np.linalg.inv( J )"
   ]
  },
  {
   "cell_type": "code",
   "execution_count": 62,
   "metadata": {},
   "outputs": [
    {
     "name": "stdout",
     "output_type": "stream",
     "text": [
      "h.shape (4, 5, 2)\n"
     ]
    }
   ],
   "source": [
    "h = np.einsum('em,ijkl,i,j,e',sigma_inv,M,a,b,y)\n",
    "print( 'h.shape', h.shape )\n",
    "h = h.ravel()"
   ]
  },
  {
   "cell_type": "code",
   "execution_count": 46,
   "metadata": {},
   "outputs": [
    {
     "data": {
      "text/plain": [
       "4.366233836808757e+16"
      ]
     },
     "execution_count": 46,
     "metadata": {},
     "output_type": "execute_result"
    }
   ],
   "source": [
    "-0.5 * h.dot( J_inv.dot( h ) )"
   ]
  },
  {
   "cell_type": "code",
   "execution_count": 66,
   "metadata": {},
   "outputs": [
    {
     "name": "stdout",
     "output_type": "stream",
     "text": [
      "h_h.shape (4, 5, 4, 5, 2, 2)\n"
     ]
    }
   ],
   "source": [
    "h_h = np.einsum('em,fn,abcd,ijkl,a,b,e,i,j,f',sigma_inv,sigma_inv,M,M,a,b,y,a,b,y)\n",
    "print( 'h_h.shape', h_h.shape )\n",
    "h_h = np.transpose( h_h, ( 0, 1, 4, 2, 3, 5 ) )\n",
    "h_h = h_h.reshape((40,40))"
   ]
  },
  {
   "cell_type": "code",
   "execution_count": 68,
   "metadata": {},
   "outputs": [
    {
     "data": {
      "text/plain": [
       "4.3662338368087816e+16"
      ]
     },
     "execution_count": 68,
     "metadata": {},
     "output_type": "execute_result"
    }
   ],
   "source": [
    "-0.5*(J_inv*h_h).sum()"
   ]
  },
  {
   "cell_type": "code",
   "execution_count": null,
   "metadata": {},
   "outputs": [],
   "source": []
  },
  {
   "cell_type": "code",
   "execution_count": null,
   "metadata": {},
   "outputs": [],
   "source": []
  }
 ],
 "metadata": {
  "kernelspec": {
   "display_name": "Python [conda env:GenModel]",
   "language": "python",
   "name": "conda-env-GenModel-py"
  },
  "language_info": {
   "codemirror_mode": {
    "name": "ipython",
    "version": 3
   },
   "file_extension": ".py",
   "mimetype": "text/x-python",
   "name": "python",
   "nbconvert_exporter": "python",
   "pygments_lexer": "ipython3",
   "version": "3.6.5"
  }
 },
 "nbformat": 4,
 "nbformat_minor": 2
}
