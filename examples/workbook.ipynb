{
 "cells": [
  {
   "cell_type": "code",
   "execution_count": 1,
   "metadata": {},
   "outputs": [],
   "source": [
    "import numpy as np\n",
    "import os\n",
    "import sys\n",
    "import scipy"
   ]
  },
  {
   "cell_type": "code",
   "execution_count": 2,
   "metadata": {},
   "outputs": [],
   "source": [
    "top_level_dir = '/'.join( os.getcwd().split( '/' )[ :-2 ] )\n",
    "if top_level_dir not in sys.path:\n",
    "    sys.path.append( top_level_dir )"
   ]
  },
  {
   "cell_type": "code",
   "execution_count": 144,
   "metadata": {},
   "outputs": [],
   "source": [
    "from GenModels.GM.Distributions import TensorNormal, TensorRegression\n",
    "from GenModels.GM.Distributions import InverseWishart, Normal"
   ]
  },
  {
   "cell_type": "code",
   "execution_count": 4,
   "metadata": {},
   "outputs": [
    {
     "data": {
      "text/plain": [
       "array([1, 2, 3, 4])"
      ]
     },
     "execution_count": 4,
     "metadata": {},
     "output_type": "execute_result"
    }
   ],
   "source": [
    "np.array( TensorNormal.generate( Ds=[ 2, 3, 4 ], size=1 ).shape )"
   ]
  },
  {
   "cell_type": "code",
   "execution_count": 5,
   "metadata": {},
   "outputs": [],
   "source": [
    "M = np.random.random( ( 4, 2, 3 ) )\n",
    "covs = [ InverseWishart.generate( D=4 ), InverseWishart.generate( D=2 ), InverseWishart.generate( D=3 ) ]"
   ]
  },
  {
   "cell_type": "code",
   "execution_count": 6,
   "metadata": {},
   "outputs": [],
   "source": [
    "X = np.random.random( ( 4, 2, 3 ) )"
   ]
  },
  {
   "cell_type": "code",
   "execution_count": 7,
   "metadata": {},
   "outputs": [
    {
     "data": {
      "text/plain": [
       "1340.982196878431"
      ]
     },
     "execution_count": 7,
     "metadata": {},
     "output_type": "execute_result"
    }
   ],
   "source": [
    "TensorNormal.log_partition( x=X, params=( M, covs ) )"
   ]
  },
  {
   "cell_type": "code",
   "execution_count": 8,
   "metadata": {},
   "outputs": [],
   "source": [
    "import autograd.numpy as anp\n",
    "import autograd\n",
    "import string\n",
    "import itertools\n",
    "from functools import reduce"
   ]
  },
  {
   "cell_type": "code",
   "execution_count": 85,
   "metadata": {},
   "outputs": [],
   "source": [
    "n1, n2 = TensorNormal.standardToNat( M, covs )"
   ]
  },
  {
   "cell_type": "code",
   "execution_count": 86,
   "metadata": {},
   "outputs": [],
   "source": [
    "cov_invs = [ np.linalg.inv( cov ) for cov in covs ]"
   ]
  },
  {
   "cell_type": "code",
   "execution_count": 110,
   "metadata": {},
   "outputs": [],
   "source": [
    "n1 = reduce( lambda x, y: np.kron( x, y ), cov_invs )"
   ]
  },
  {
   "cell_type": "code",
   "execution_count": 126,
   "metadata": {},
   "outputs": [],
   "source": [
    "def invs( x, k=None ):\n",
    "    ans = [ np.linalg.inv( _x ) for _x in x ]\n",
    "    if( k is not None ):\n",
    "        ans[ 0 ] *= -0.5\n",
    "    return ans\n",
    "\n",
    "def realStandardToNat( M, covs ):\n",
    "    # Avoid this because it is unnecessarily expensive\n",
    "    cov_invs = [ np.linalg.inv( cov ) for cov in covs ]\n",
    "    n1 = reduce( lambda x, y: np.kron( x, y ), cov_invs ).reshape( M.shape + M.shape )\n",
    "    N = len( M.shape ) \n",
    "    ind1 = string.ascii_letters[ : N ]\n",
    "    ind2 = string.ascii_letters[ N : N * 2 ]\n",
    "    contract = ind2 + ',' + ind1 + ind2 + '->' + ind1    \n",
    "    n2 = np.einsum( contract, M, n1 )\n",
    "    return -0.5 * n1, n2"
   ]
  },
  {
   "cell_type": "code",
   "execution_count": 127,
   "metadata": {},
   "outputs": [
    {
     "name": "stdout",
     "output_type": "stream",
     "text": [
      "[4, 4, 2, 2, 3, 3]\n",
      "contract def,abcdef->abc\n",
      "M.shape (4, 2, 3)\n",
      "n1.shape (4, 2, 3, 4, 2, 3)\n"
     ]
    }
   ],
   "source": [
    "m1, m2 = realStandardToNat( M, covs )"
   ]
  },
  {
   "cell_type": "code",
   "execution_count": 128,
   "metadata": {},
   "outputs": [
    {
     "data": {
      "text/plain": [
       "array([ 168.83914916,   24.98008754,  123.75923897,  126.18610477,\n",
       "         25.85595776,   89.49576316,  517.10980888,   53.72652612,\n",
       "        387.52820584,  496.76506971,   54.56003215,  371.1125931 ,\n",
       "       -202.58342627,  -20.53750595, -151.71883261, -197.80463401,\n",
       "        -21.12368699, -147.82725783,  601.79081378,   63.42556405,\n",
       "        451.16096331,  569.88554907,   63.67172041,  425.67262986])"
      ]
     },
     "execution_count": 128,
     "metadata": {},
     "output_type": "execute_result"
    }
   ],
   "source": [
    "n1.dot( M.ravel() )"
   ]
  },
  {
   "cell_type": "code",
   "execution_count": 131,
   "metadata": {},
   "outputs": [
    {
     "data": {
      "text/plain": [
       "array([ 168.83914916,   24.98008754,  123.75923897,  126.18610477,\n",
       "         25.85595776,   89.49576316,  517.10980888,   53.72652612,\n",
       "        387.52820584,  496.76506971,   54.56003215,  371.1125931 ,\n",
       "       -202.58342627,  -20.53750595, -151.71883261, -197.80463401,\n",
       "        -21.12368699, -147.82725783,  601.79081378,   63.42556405,\n",
       "        451.16096331,  569.88554907,   63.67172041,  425.67262986])"
      ]
     },
     "execution_count": 131,
     "metadata": {},
     "output_type": "execute_result"
    }
   ],
   "source": [
    "m2.ravel()"
   ]
  },
  {
   "cell_type": "code",
   "execution_count": 108,
   "metadata": {},
   "outputs": [
    {
     "data": {
      "text/plain": [
       "(4, 4, 2, 2, 3, 3)"
      ]
     },
     "execution_count": 108,
     "metadata": {},
     "output_type": "execute_result"
    }
   ],
   "source": [
    "m1.shape"
   ]
  },
  {
   "cell_type": "code",
   "execution_count": 109,
   "metadata": {},
   "outputs": [
    {
     "data": {
      "text/plain": [
       "(4, 4, 3, 3, 2, 2)"
      ]
     },
     "execution_count": 109,
     "metadata": {},
     "output_type": "execute_result"
    }
   ],
   "source": [
    "n1.shape"
   ]
  },
  {
   "cell_type": "code",
   "execution_count": 141,
   "metadata": {},
   "outputs": [],
   "source": [
    "Ds = [ 4, 2, 3 ]\n",
    "xs = [ np.random.random( D ) for D in Ds[ 1: ] ]\n",
    "y = np.random.random( Ds[ 0 ] )[ None ]\n",
    "M = np.random.random( Ds )\n",
    "sigma = InverseWishart.generate( D=Ds[ 0 ] )"
   ]
  },
  {
   "cell_type": "code",
   "execution_count": 145,
   "metadata": {},
   "outputs": [
    {
     "data": {
      "text/plain": [
       "-2.211015165457313"
      ]
     },
     "execution_count": 145,
     "metadata": {},
     "output_type": "execute_result"
    }
   ],
   "source": [
    "Normal.log_likelihood( y, params=( np.einsum( 'ijk,j,k', M, *xs ), sigma ) )"
   ]
  },
  {
   "cell_type": "code",
   "execution_count": 146,
   "metadata": {},
   "outputs": [],
   "source": [
    "Xs = [ np.outer( x, x ) for x in xs ]"
   ]
  },
  {
   "cell_type": "code",
   "execution_count": 158,
   "metadata": {},
   "outputs": [
    {
     "name": "stdout",
     "output_type": "stream",
     "text": [
      "(4, 4, 2, 2, 3, 3)\n"
     ]
    }
   ],
   "source": [
    "x_kron = reduce( lambda x, y: np.kron( x, y ), Xs ).reshape( ( 2, 3, 2, 3 ) )\n",
    "M_kron = np.kron( M, M ).reshape( ( 4, 4, 2, 2, 3, 3 ) )\n",
    "print( M_kron.shape )"
   ]
  },
  {
   "cell_type": "code",
   "execution_count": 151,
   "metadata": {},
   "outputs": [
    {
     "data": {
      "text/plain": [
       "array([[0.93272824, 0.85234579, 0.76609866, 0.51937742],\n",
       "       [0.85234579, 0.7788907 , 0.70007633, 0.47461751],\n",
       "       [0.76609866, 0.70007633, 0.62923703, 0.42659193],\n",
       "       [0.51937742, 0.47461751, 0.42659193, 0.28920846]])"
      ]
     },
     "execution_count": 151,
     "metadata": {},
     "output_type": "execute_result"
    }
   ],
   "source": [
    "np.einsum( 'abc,ijk,b,c,j,k', M, M, *xs, *xs )"
   ]
  },
  {
   "cell_type": "code",
   "execution_count": 155,
   "metadata": {},
   "outputs": [
    {
     "data": {
      "text/plain": [
       "array([[0.93272824, 0.85234579, 0.76609866, 0.51937742],\n",
       "       [0.85234579, 0.7788907 , 0.70007633, 0.47461751],\n",
       "       [0.76609866, 0.70007633, 0.62923703, 0.42659193],\n",
       "       [0.51937742, 0.47461751, 0.42659193, 0.28920846]])"
      ]
     },
     "execution_count": 155,
     "metadata": {},
     "output_type": "execute_result"
    }
   ],
   "source": [
    "np.einsum( 'abc,ijk,bcjk', M, M, x_kron )"
   ]
  },
  {
   "cell_type": "code",
   "execution_count": 162,
   "metadata": {},
   "outputs": [
    {
     "data": {
      "text/plain": [
       "array([[0.93272824, 0.85234579, 0.76609866, 0.51937742],\n",
       "       [0.85234579, 0.7788907 , 0.70007633, 0.47461751],\n",
       "       [0.76609866, 0.70007633, 0.62923703, 0.42659193],\n",
       "       [0.51937742, 0.47461751, 0.42659193, 0.28920846]])"
      ]
     },
     "execution_count": 162,
     "metadata": {},
     "output_type": "execute_result"
    }
   ],
   "source": [
    "np.einsum( 'aibjck,bcjk', M_kron, x_kron )"
   ]
  },
  {
   "cell_type": "code",
   "execution_count": null,
   "metadata": {},
   "outputs": [],
   "source": []
  }
 ],
 "metadata": {
  "kernelspec": {
   "display_name": "Python [conda env:GenModel]",
   "language": "python",
   "name": "conda-env-GenModel-py"
  },
  "language_info": {
   "codemirror_mode": {
    "name": "ipython",
    "version": 3
   },
   "file_extension": ".py",
   "mimetype": "text/x-python",
   "name": "python",
   "nbconvert_exporter": "python",
   "pygments_lexer": "ipython3",
   "version": "3.6.5"
  }
 },
 "nbformat": 4,
 "nbformat_minor": 2
}
