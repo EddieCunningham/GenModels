{
 "cells": [
  {
   "cell_type": "markdown",
   "metadata": {},
   "source": [
    "# Context:\n",
    "(See my undergrad [capstone project](https://seelio.com/w/2qd9/honors-capstone-project) and [senior group project](https://seelio.com/w/2ify/kec-senior-project) for a full overview)\n",
    "<br>\n",
    "\n",
    "# Retinal dystrophy is a type of eye disease that affects the retina and can lead to blindness\n",
    "- [400 patients](http://www.phgfoundation.org/file/4199) diagnosed with a dystrophy annually\n",
    "- Difficult to precisely determine retinal dystrophy by hand\n",
    "- There are hundreds of possible causes\n",
    "- Process can quickly become expensive due to:\n",
    " - Blood tests\n",
    " - Gene sequencing can cost [thousands](http://www.ohsu.edu/xd/health/services/casey-eye/diagnostic-services/cei-diagnostics/upload/Retinal-Dystrophy-Panel-Gene-List.pdf) of dollars\n",
    " - Specialist consulting\n",
    " - Lack of insurance coverage"
   ]
  },
  {
   "cell_type": "markdown",
   "metadata": {},
   "source": [
    "# What's stopping a patient from receiving treatment?\n",
    "- There may not be a treatment that exists although experimental treatments may be available\n",
    "- **Need to know what the disease is before anything**"
   ]
  },
  {
   "cell_type": "markdown",
   "metadata": {},
   "source": [
    "# Why is it difficult to figure out the disease?\n",
    "- These are rare conditions\n",
    "- Patients need to see genetic specialists who work in hospitals that focus in retinal dystrophies, like the [Kellog Eye Center](https://www.umkelloggeye.org/) in Ann Arbor, Michigan\n",
    "- **The only way to know what the disease actually is, is to take a blood test for the possible diseases and see which one shows up positive**"
   ]
  },
  {
   "cell_type": "markdown",
   "metadata": {},
   "source": [
    "# Whats special about retinal dystrophies?\n",
    "- They are very rare diseases, so symptoms alone cannot be used to determine the disease\n",
    "- Most retinal dystrophies are genetically inherited through 3 possible inheritance patterns, [Autosomal Dominant, Autosomal Recessive and X-Linked Recessive](http://hihg.med.miami.edu/code/http/modules/education/Design/Print.asp?CourseNum=1&LessonNum=3)"
   ]
  },
  {
   "cell_type": "markdown",
   "metadata": {},
   "source": [
    "# How can machine learning help a genetic specialist?\n",
    "- We can model a person's [genotypes and phenotypes](http://examples.yourdictionary.com/examples-of-genotype-phenotype.html) as a latent state and emission states, resepctively, and use modern day machine learning to infer things about the genotype, phenotype and inheritance pattern\n",
    "- The statistical knowledge from this approach can then help a genetic specialist make a decision"
   ]
  },
  {
   "cell_type": "markdown",
   "metadata": {},
   "source": [
    "# What does the available data look like?\n",
    "- Data comes from [pedigree charts](https://en.wikipedia.org/wiki/Pedigree_chart)\n",
    "- All data is hand drawn on charts stored in a chart room\n",
    "- Each data point is collected by a genetic specialist when interviewing a patient about their genetic history"
   ]
  },
  {
   "cell_type": "markdown",
   "metadata": {},
   "source": [
    "<img src=\"1084LN.JPG\" width=\"800\" height=\"800\">"
   ]
  },
  {
   "cell_type": "markdown",
   "metadata": {},
   "source": [
    "# Problem:\n",
    "** If we have a pedigree for someone affected by a rare disease, is it possible to determine the inheritance pattern of the disease? **"
   ]
  },
  {
   "cell_type": "markdown",
   "metadata": {},
   "source": [
    "# Problem Constraints:\n",
    "- The results MUST be interpretable\n",
    "- Need to be able to reflect model's confidence in prediction\n",
    "- Must be able to work with missing and noisy data\n",
    "- Should incorporate the structure of pedigrees in predictions\n",
    "- Have to be able to use prior knowledge about genetics and implications of a diagnosis when making predictions"
   ]
  },
  {
   "cell_type": "markdown",
   "metadata": {},
   "source": [
    "# Solution:\n",
    "- Digitize pedigrees using a graphical application (see my PedigreeDataCollection repo)\n",
    "- Model a pedigree as a graphical latent state space model where latent states are discrete and transitions are Markovian: <br>(See the Hypergraph Tutorial notebook in ../exmaples for a guide to the notation)\n",
    "<br>\n",
    "<br>\n",
    "$$\n",
    "\\text{ For every root in the pedigree } \\\\\n",
    "n_x \\sim P( n_x ) \\\\\n",
    "\\text{ For every node n in the pedigree who has parents shown } \\\\\n",
    "n_x \\sim P( n_x | \\wedge(n)_x ) \\\\\n",
    "n_y \\sim P( n_y | n_x )\n",
    "$$"
   ]
  }
 ],
 "metadata": {
  "kernelspec": {
   "display_name": "Python [conda env:GenModel]",
   "language": "python",
   "name": "conda-env-GenModel-py"
  },
  "language_info": {
   "codemirror_mode": {
    "name": "ipython",
    "version": 3
   },
   "file_extension": ".py",
   "mimetype": "text/x-python",
   "name": "python",
   "nbconvert_exporter": "python",
   "pygments_lexer": "ipython3",
   "version": "3.6.5"
  }
 },
 "nbformat": 4,
 "nbformat_minor": 2
}
