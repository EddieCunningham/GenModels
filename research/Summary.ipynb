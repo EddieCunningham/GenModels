{
 "cells": [
  {
   "cell_type": "code",
   "execution_count": 1,
   "metadata": {},
   "outputs": [
    {
     "data": {
      "text/html": [
       "<style>.container { width:100% !important; }</style>"
      ],
      "text/plain": [
       "<IPython.core.display.HTML object>"
      ]
     },
     "metadata": {},
     "output_type": "display_data"
    }
   ],
   "source": [
    "import os\n",
    "import subprocess\n",
    "import sys\n",
    "import numpy as np\n",
    "import itertools\n",
    "import json\n",
    "from tqdm import tqdm\n",
    "from IPython.display import display, HTML\n",
    "import time\n",
    "import copy\n",
    "from collections import namedtuple\n",
    "top_level_dir = '/'.join( os.getcwd().split( '/' )[ :-2 ] )\n",
    "if top_level_dir not in sys.path:\n",
    "    sys.path.append( top_level_dir )\n",
    "%load_ext autoreload\n",
    "%autoreload 2\n",
    "display(HTML(\"<style>.container { width:100% !important; }</style>\"))"
   ]
  },
  {
   "cell_type": "code",
   "execution_count": 2,
   "metadata": {},
   "outputs": [],
   "source": [
    "from GenModels.GM.Distributions import Categorical, Dirichlet, TensorTransition, TensorTransitionDirichletPrior\n",
    "from GenModels.research.PedigreeLoader import load\n",
    "from GenModels.research.PedigreeWrappers import PedigreeHMMFilter, PedigreeHMMFilterSexMatters, Pedigree, PedigreeSexMatters\n",
    "from GenModels.research.Models import *"
   ]
  },
  {
   "cell_type": "code",
   "execution_count": 3,
   "metadata": {
    "scrolled": true
   },
   "outputs": [
    {
     "name": "stdout",
     "output_type": "stream",
     "text": [
      "Graph 4671AT.json is incorrect. 10\n",
      "Graph 371KD.json is incorrect. 6\n",
      "Graph 6030CH.json is incorrect. 25\n",
      "Graph 3743MH.json is incorrect. -1\n",
      "Graph 5470NG.json is incorrect. -1\n",
      "Graph 928DW.json is incorrect. -5\n",
      "Graph 6210HG.json is incorrect. 21\n",
      "Graph 2049EE.json is incorrect. -1\n",
      "Graph 1044IO.json is incorrect. -1\n",
      "Graph 773SM.json is incorrect. 30\n",
      "Graph 5833TK.json is incorrect. 2\n",
      "Graph 5738AT.json is incorrect. Can't have an edge with no children!!!!\n",
      "Graph 3427NF.json is incorrect. -1\n",
      "Graph 4956RL.json is incorrect. 3\n",
      "Graph 5022KK.json is incorrect. 31\n",
      "Graph 5101LV.json is incorrect. 3\n",
      "Graph 3420MZ.json is incorrect. 2\n",
      "Graph 3515JA.json is incorrect. 2\n",
      "Graph 5865MH.json is incorrect. This graph is disjoint!!!\n",
      "Graph 3919MR.json is incorrect. 1\n",
      "Graph 473DM.json is incorrect. 30\n",
      "Graph NEI_INVPK971KPR.json is incorrect. Can't have an edge with no children!!!!\n",
      "Graph 4737AL.json is incorrect. 2\n",
      "Graph 5697MS.json is incorrect. 3\n",
      "Graph 6199RS.json is incorrect. 14\n",
      "Graph 4835MM.json is incorrect. -4\n",
      "Graph 3055CG.json is incorrect. -1\n",
      "Graph NEI_INVPR982XJT.json is incorrect. -1\n",
      "Graph 5035KK.json is incorrect. 1\n",
      "Graph NEI_INVPE887JM0.json is incorrect. -1\n",
      "Graph 379RF.json is incorrect. 1\n",
      "Graph 3672DW.json is incorrect. 13\n",
      "Graph 5855MO.json is incorrect. 12\n",
      "Graph 5392KT.json is incorrect. 25\n",
      "Graph 3086GA.json is incorrect. 4\n",
      "Graph 4957KL.json is incorrect. 10\n",
      "Graph 3818IJ.json is incorrect. -10\n",
      "Graph 5546EL.json is incorrect. 21\n",
      "Graph NEI_INVLY002NLJ.json is incorrect. Can't have an edge with no children!!!!\n",
      "Graph 370JF.json is incorrect. 6\n",
      "Graph 235TL.json is incorrect. 1\n",
      "Graph 6261JS.json is incorrect. -28\n",
      "Graph NEI_INVNX703MYA.json is incorrect. 1\n",
      "Graph 1011MB.json is incorrect. 3\n",
      "Graph NEI_INVTV261VMB.json is incorrect. 8\n",
      "Graph 316CD.json is incorrect. 10\n",
      "Graph 3757MR.json is incorrect. 5\n",
      "Graph NEI_INVHH078NP4.json is incorrect. Can't have an edge with no children!!!!\n",
      "Graph 3267NF.json is incorrect. -1\n",
      "Graph 4958NG.json is incorrect. -12\n",
      "Graph 346GT.json is incorrect. 27\n",
      "Graph 273PA.json is incorrect. 3\n",
      "Graph 840CJ.json is incorrect. 3\n",
      "Graph 772GT.json is incorrect. -24\n",
      "Graph 2068AP.json is incorrect. 18\n",
      "Graph 3903KA.json is incorrect. 1\n",
      "Graph 4428MN.json is incorrect. -8\n",
      "Graph 1038CG.json is incorrect. -1\n",
      "Graph 329JR.json is incorrect. 2\n",
      "Graph 3507AA.json is incorrect. 1\n",
      "Graph 3011JB.json is incorrect. Edge before: 1 but tried setting: 2\n",
      "Graph NEI_INVMD956GGN.json is incorrect. 4\n",
      "Graph 5701LC.json is incorrect. 15\n",
      "Graph NEI_INVCE479GKE.json is incorrect. 98\n",
      "Graph NEI_INVPT827UYN.json is incorrect. Can't have an edge with no children!!!!\n",
      "Graph 3848CB.json is incorrect. 20\n",
      "Graph 4359BK.json is incorrect. 2\n",
      "Graph 3729MM.json is incorrect. 32\n",
      "Graph 3261MM.json is incorrect. 14\n",
      "Graph 6158AT.json is incorrect. -5\n",
      "Graph 3864AH.json is incorrect. -1\n",
      "Graph 927NW.json is incorrect. -22\n",
      "Graph 5992VM.json is incorrect. -1\n",
      "Graph 4205CT.json is incorrect. 2\n",
      "Graph NEI_INVGW999XGM.json is incorrect. Can't have an edge with no children!!!!\n",
      "Graph 5712CS.json is incorrect. 3\n",
      "Graph 3948DW.json is incorrect. -18\n",
      "Graph 3605JG.json is incorrect. -1\n",
      "Graph 2018LM.json is incorrect. -1\n",
      "Graph 4338IR.json is incorrect. 2\n",
      "Graph 3200BK.json is incorrect. 1\n",
      "Graph 3203NZ.json is incorrect. 37\n",
      "Graph 4940KJ.json is incorrect. -1\n",
      "Graph 5951MB.json is incorrect. 1\n",
      "Graph 3379KS.json is incorrect. Edge before: 6 but tried setting: 8\n",
      "Graph 1083BF.json is incorrect. -1\n",
      "Graph 6066RB.json is incorrect. -1\n",
      "Graph 5713BS.json is incorrect. 3\n",
      "Graph NEI_INVAH638ERF.json is incorrect. Edge before: 0 but tried setting: 8\n",
      "Graph 4994BD.json is incorrect. -19\n",
      "Graph 1079JM.json is incorrect. 47\n",
      "Graph 5081LD.json is incorrect. 3\n",
      "Graph 3216LP.json is incorrect. 13\n",
      "Graph 4870BF.json is incorrect. -1\n",
      "Graph 4776EW.json is incorrect. 24\n"
     ]
    }
   ],
   "source": [
    "graphs = load()"
   ]
  },
  {
   "cell_type": "code",
   "execution_count": 4,
   "metadata": {},
   "outputs": [
    {
     "data": {
      "text/plain": [
       "430"
      ]
     },
     "execution_count": 4,
     "metadata": {},
     "output_type": "execute_result"
    }
   ],
   "source": [
    "len( graphs )"
   ]
  },
  {
   "cell_type": "code",
   "execution_count": 5,
   "metadata": {},
   "outputs": [
    {
     "name": "stdout",
     "output_type": "stream",
     "text": [
      "Number of graphs for AD: 132 AR: 197 XL: 98\n"
     ]
    }
   ],
   "source": [
    "ad_graphs = [ ( graph, fbs ) for graph, fbs in graphs if graph.inheritancePattern == 'AD' ]\n",
    "ar_graphs = [ ( graph, fbs ) for graph, fbs in graphs if graph.inheritancePattern == 'AR' ]\n",
    "xl_graphs = [ ( graph, fbs ) for graph, fbs in graphs if graph.inheritancePattern == 'XL' ]\n",
    "print( 'Number of graphs for AD: %d AR: %d XL: %d'%( len( ad_graphs ), len( ar_graphs ), len( xl_graphs )) )"
   ]
  },
  {
   "cell_type": "markdown",
   "metadata": {},
   "source": [
    "# Estimating E[ P( Y ) ] using Mendellian priors is biased towards autosomal recessive"
   ]
  },
  {
   "cell_type": "code",
   "execution_count": 6,
   "metadata": {},
   "outputs": [],
   "source": [
    "def evaluationGraphs( graph_and_fbs, set_latent_states=True ):\n",
    "    \n",
    "    graph, fbs = graph_and_fbs\n",
    "\n",
    "    graph_sex_matters = graph if isinstance( graph, PedigreeSexMatters ) else PedigreeSexMatters.fromPedigree( graph )\n",
    "    graph_sex_doesnt_matters = graph if isinstance( graph, Pedigree ) else Pedigree.fromPedigreeSexMatters( graph )\n",
    "    \n",
    "    ad_graph = copy.deepcopy( graph_sex_doesnt_matters )\n",
    "    ar_graph = copy.deepcopy( graph_sex_doesnt_matters )\n",
    "    xl_graph = copy.deepcopy( graph_sex_matters )\n",
    "\n",
    "    if( set_latent_states ):\n",
    "        ad_graph.useDiagnosisImplication( 'AD' )\n",
    "        ar_graph.useDiagnosisImplication( 'AR' )\n",
    "        xl_graph.useDiagnosisImplication( 'XL' )\n",
    "\n",
    "    return ( ad_graph, fbs ), ( ar_graph, fbs ), ( xl_graph, fbs )\n",
    "\n",
    "def onlineMeanUpdate( mean, val, N ):\n",
    "    return mean + ( val - mean ) / N\n",
    "\n",
    "def normalizedScores( ad_score, ar_score, xl_score ):\n",
    "    normalizer = np.logaddexp.reduce( [ ad_score, ar_score, xl_score ] )\n",
    "    probs = np.array( [ np.exp( ad_score - normalizer ), np.exp( ar_score - normalizer ), np.exp( xl_score - normalizer ) ] )\n",
    "    return probs\n",
    "\n",
    "def distributionComparison( graph, samples=400, strength=4, set_latent_states=True ):\n",
    "\n",
    "    # Fill in assumptions that we can make about each graph\n",
    "    ad_graph, ar_graph, xl_graph = evaluationGraphs( graph, set_latent_states=set_latent_states )\n",
    "    \n",
    "    # Make the models\n",
    "    ad_eval = AutosomalDominant( [ ad_graph ], prior_strength=strength, method='Gibbs' )\n",
    "    ar_eval = AutosomalRecessive( [ ar_graph ], prior_strength=strength, method='Gibbs' )\n",
    "    xl_eval = XLinkedRecessive( [ xl_graph ], prior_strength=strength, method='Gibbs' )\n",
    "\n",
    "    ad_score, ar_score, xl_score = 0.0, 0.0, 0.0\n",
    "    \n",
    "    for i in range( samples ):\n",
    "        \n",
    "        # Sample Θ\n",
    "        ad_eval.sampleParams()\n",
    "        ar_eval.sampleParams()\n",
    "        xl_eval.sampleParams()\n",
    "        \n",
    "        # Update the scores\n",
    "        ad_score = onlineMeanUpdate( ad_score, ad_eval.marginal(), i+1 )\n",
    "        ar_score = onlineMeanUpdate( ar_score, ar_eval.marginal(), i+1 )\n",
    "        xl_score = onlineMeanUpdate( xl_score, xl_eval.marginal(), i+1 )     \n",
    "            \n",
    "    probs = normalizedScores( ad_score, ar_score, xl_score )\n",
    "    \n",
    "    ad_eval.msg.cleanup()\n",
    "    ar_eval.msg.cleanup()\n",
    "    xl_eval.msg.cleanup()\n",
    "    \n",
    "    # Sort the scores and return the corresponding inheritance pattern\n",
    "    ad_comp = ( ad_score, 'AD' )\n",
    "    ar_comp = ( ar_score, 'AR' )\n",
    "    xl_comp = ( xl_score, 'XL' )\n",
    "    \n",
    "    possibilities = [ ad_comp, ar_comp, xl_comp ]\n",
    "    return sorted( possibilities, key=lambda x: x[ 0 ] )[ -1 ][ 1 ], probs"
   ]
  },
  {
   "cell_type": "code",
   "execution_count": 7,
   "metadata": {},
   "outputs": [],
   "source": [
    "def classAccuracy( label, predicted, true ):\n",
    "    predicted_label = predicted[ true == label ]\n",
    "    return ( predicted_label == label ).sum() / predicted_label.shape[ 0 ]"
   ]
  },
  {
   "cell_type": "code",
   "execution_count": 32,
   "metadata": {},
   "outputs": [],
   "source": [
    "def fullPredictions( ad_graphs, ar_graphs, xl_graphs, N=100, strength=4, set_latent_states=True ):\n",
    "    n_graphs = len( ad_graphs ) + len( ar_graphs ) + len( xl_graphs )\n",
    "    results = []\n",
    "    with tqdm( total=n_graphs ) as pbar:\n",
    "        for graph in ad_graphs:\n",
    "            ip, probs = distributionComparison( graph, samples=N, set_latent_states=set_latent_states, strength=strength )\n",
    "            results.append( ( graph, ip, 'AD' ) )\n",
    "            pbar.update( 1 )\n",
    "#             print( 'Study ID', graph[0].studyID, 'Prediction:', ip, 'True: AD', 'probs', probs )\n",
    "\n",
    "        for graph in ar_graphs:\n",
    "            ip, probs = distributionComparison( graph, samples=N, set_latent_states=set_latent_states, strength=strength ) \n",
    "            results.append( ( graph, ip, 'AR' ) )\n",
    "            pbar.update( 1 )\n",
    "#             print( 'Study ID', graph[0].studyID, 'Prediction:', ip, 'True: AR', 'probs', probs )\n",
    "\n",
    "        for graph in xl_graphs:\n",
    "            ip, probs = distributionComparison( graph, samples=N, set_latent_states=set_latent_states, strength=strength ) \n",
    "            results.append( ( graph, ip, 'XL' ) )\n",
    "            pbar.update( 1 )\n",
    "#             print( 'Study ID', graph[0].studyID, 'Prediction:', ip, 'True: XL', 'probs', probs )\n",
    "            \n",
    "    _, predicted, true = list( zip( *results ) )\n",
    "    predicted = np.array( predicted )\n",
    "    true = np.array( true )\n",
    "    \n",
    "    labels = [ 'AD', 'AR', 'XL' ]\n",
    "    mat = confusion_matrix( true, predicted, labels=labels )\n",
    "    plt.imshow( mat )\n",
    "    plt.colorbar()\n",
    "    plt.xticks( [ 0, 1, 2 ], labels )\n",
    "    plt.yticks( [ 0, 1, 2 ], labels )\n",
    "    plt.show()\n",
    "    \n",
    "    print( 'AD Accuracy:', classAccuracy( 'AD', predicted, true ) )\n",
    "    print( 'AR Accuracy:', classAccuracy( 'AR', predicted, true ) )\n",
    "    print( 'XL Accuracy:', classAccuracy( 'XL', predicted, true ) )"
   ]
  },
  {
   "cell_type": "code",
   "execution_count": 33,
   "metadata": {},
   "outputs": [],
   "source": [
    "from sklearn.metrics import confusion_matrix\n",
    "import matplotlib.pyplot as plt"
   ]
  },
  {
   "cell_type": "code",
   "execution_count": 34,
   "metadata": {},
   "outputs": [],
   "source": [
    "N = 100\n",
    "# Randomly sample 10 graphs from each class to do inference on\n",
    "K = 10\n",
    "ind_ad = np.random.choice( len( ad_graphs ), size=K, replace=False )\n",
    "ind_ar = np.random.choice( len( ar_graphs ), size=K, replace=False )\n",
    "ind_xl = np.random.choice( len( xl_graphs ), size=K, replace=False )"
   ]
  },
  {
   "cell_type": "code",
   "execution_count": 35,
   "metadata": {},
   "outputs": [],
   "source": [
    "ad_test = [ ad_graphs[ i ] for i in ind_ad ]\n",
    "ar_test = [ ar_graphs[ i ] for i in ind_ar ]\n",
    "xl_test = [ xl_graphs[ i ] for i in ind_xl ]"
   ]
  },
  {
   "cell_type": "code",
   "execution_count": 37,
   "metadata": {},
   "outputs": [
    {
     "name": "stderr",
     "output_type": "stream",
     "text": [
      "100%|██████████| 30/30 [07:13<00:00, 13.56s/it]\n"
     ]
    },
    {
     "data": {
      "image/png": "[encoded data removed]",
      "text/plain": [
       "<Figure size 432x288 with 2 Axes>"
      ]
     },
     "metadata": {},
     "output_type": "display_data"
    },
    {
     "name": "stdout",
     "output_type": "stream",
     "text": [
      "AD Accuracy: 0.1\n",
      "AR Accuracy: 1.0\n",
      "XL Accuracy: 0.2\n"
     ]
    }
   ],
   "source": [
    "fullPredictions( ad_test, ar_test, xl_test, N=100, strength=4, set_latent_states=True )"
   ]
  },
  {
   "cell_type": "markdown",
   "metadata": {},
   "source": [
    "# What if we didn't have rare diseases?"
   ]
  },
  {
   "cell_type": "code",
   "execution_count": 13,
   "metadata": {},
   "outputs": [],
   "source": [
    "ad_true = AutosomalDominant(prior_strength=30, method='Gibbs' )\n",
    "ar_true = AutosomalRecessive( prior_strength=30, method='Gibbs' )\n",
    "xl_true = XLinkedRecessive( prior_strength=30, method='Gibbs' )"
   ]
  },
  {
   "cell_type": "code",
   "execution_count": 14,
   "metadata": {},
   "outputs": [],
   "source": [
    "ad_test_copy = copy.deepcopy( ad_test )\n",
    "ar_test_copy = copy.deepcopy( ar_test )\n",
    "xl_test_copy = copy.deepcopy( xl_test )"
   ]
  },
  {
   "cell_type": "code",
   "execution_count": 15,
   "metadata": {},
   "outputs": [],
   "source": [
    "def setCommonStates( graphs, true_model ):\n",
    "    for i, ( graph, fbs ) in enumerate( graphs ):\n",
    "        true_model.setGraphs( [ ( graph, fbs ) ] )\n",
    "        _, data = true_model.sampleStates( measurements=1000 )\n",
    "        graph.setNodeData( data.keys(), data.values() )"
   ]
  },
  {
   "cell_type": "code",
   "execution_count": 16,
   "metadata": {},
   "outputs": [],
   "source": [
    "setCommonStates( ad_test_copy, ad_true )\n",
    "setCommonStates( ar_test_copy, ar_true )\n",
    "setCommonStates( xl_test_copy, xl_true )"
   ]
  },
  {
   "cell_type": "code",
   "execution_count": 17,
   "metadata": {
    "scrolled": false
   },
   "outputs": [
    {
     "name": "stderr",
     "output_type": "stream",
     "text": [
      "100%|██████████| 30/30 [08:01<00:00, 13.06s/it]\n"
     ]
    },
    {
     "data": {
      "image/png": "[encoded data removed]",
      "text/plain": [
       "<Figure size 432x288 with 1 Axes>"
      ]
     },
     "metadata": {},
     "output_type": "display_data"
    },
    {
     "name": "stdout",
     "output_type": "stream",
     "text": [
      "0.4\n",
      "0.4\n",
      "0.3\n"
     ]
    }
   ],
   "source": [
    "fullPredictions( ad_test_copy, ar_test_copy, xl_test_copy, N=100, strength=4, set_latent_states=False )"
   ]
  },
  {
   "cell_type": "code",
   "execution_count": 18,
   "metadata": {},
   "outputs": [
    {
     "name": "stderr",
     "output_type": "stream",
     "text": [
      "100%|██████████| 30/30 [08:01<00:00, 13.04s/it]\n"
     ]
    },
    {
     "data": {
      "image/png": "[encoded data removed]",
      "text/plain": [
       "<Figure size 432x288 with 1 Axes>"
      ]
     },
     "metadata": {},
     "output_type": "display_data"
    },
    {
     "name": "stdout",
     "output_type": "stream",
     "text": [
      "0.5\n",
      "0.5\n",
      "0.3\n"
     ]
    }
   ],
   "source": [
    "fullPredictions( ad_test_copy, ar_test_copy, xl_test_copy, N=100, strength=30, set_latent_states=False )"
   ]
  },
  {
   "cell_type": "code",
   "execution_count": 19,
   "metadata": {},
   "outputs": [
    {
     "name": "stderr",
     "output_type": "stream",
     "text": [
      "100%|██████████| 30/30 [08:01<00:00, 13.04s/it]\n"
     ]
    },
    {
     "data": {
      "image/png": "[encoded data removed]",
      "text/plain": [
       "<Figure size 432x288 with 1 Axes>"
      ]
     },
     "metadata": {},
     "output_type": "display_data"
    },
    {
     "name": "stdout",
     "output_type": "stream",
     "text": [
      "0.8\n",
      "0.5\n",
      "0.3\n"
     ]
    }
   ],
   "source": [
    "fullPredictions( ad_test_copy, ar_test_copy, xl_test_copy, N=100, strength=30, set_latent_states=False )"
   ]
  },
  {
   "cell_type": "code",
   "execution_count": 20,
   "metadata": {},
   "outputs": [
    {
     "name": "stderr",
     "output_type": "stream",
     "text": [
      "100%|██████████| 30/30 [08:02<00:00, 13.07s/it]\n"
     ]
    },
    {
     "data": {
      "image/png": "[encoded data removed]",
      "text/plain": [
       "<Figure size 432x288 with 1 Axes>"
      ]
     },
     "metadata": {},
     "output_type": "display_data"
    },
    {
     "name": "stdout",
     "output_type": "stream",
     "text": [
      "0.4\n",
      "0.6\n",
      "0.2\n"
     ]
    }
   ],
   "source": [
    "fullPredictions( ad_test_copy, ar_test_copy, xl_test_copy, N=100, strength=30, set_latent_states=False )"
   ]
  },
  {
   "cell_type": "code",
   "execution_count": 21,
   "metadata": {},
   "outputs": [
    {
     "name": "stderr",
     "output_type": "stream",
     "text": [
      "100%|██████████| 30/30 [08:02<00:00, 13.05s/it]\n"
     ]
    },
    {
     "data": {
      "image/png": "[encoded data removed]",
      "text/plain": [
       "<Figure size 432x288 with 1 Axes>"
      ]
     },
     "metadata": {},
     "output_type": "display_data"
    },
    {
     "name": "stdout",
     "output_type": "stream",
     "text": [
      "0.5\n",
      "0.6\n",
      "0.4\n"
     ]
    }
   ],
   "source": [
    "fullPredictions( ad_test_copy, ar_test_copy, xl_test_copy, N=100, strength=30, set_latent_states=False )"
   ]
  },
  {
   "cell_type": "code",
   "execution_count": null,
   "metadata": {},
   "outputs": [],
   "source": []
  },
  {
   "cell_type": "code",
   "execution_count": null,
   "metadata": {},
   "outputs": [],
   "source": []
  }
 ],
 "metadata": {
  "kernelspec": {
   "display_name": "Python [conda env:GenModel]",
   "language": "python",
   "name": "conda-env-GenModel-py"
  },
  "language_info": {
   "codemirror_mode": {
    "name": "ipython",
    "version": 3
   },
   "file_extension": ".py",
   "mimetype": "text/x-python",
   "name": "python",
   "nbconvert_exporter": "python",
   "pygments_lexer": "ipython3",
   "version": "3.6.6"
  }
 },
 "nbformat": 4,
 "nbformat_minor": 2
}
