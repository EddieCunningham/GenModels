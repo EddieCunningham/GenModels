{
 "cells": [
  {
   "cell_type": "code",
   "execution_count": 7,
   "metadata": {},
   "outputs": [
    {
     "name": "stdout",
     "output_type": "stream",
     "text": [
      "The autoreload extension is already loaded. To reload it, use:\n",
      "  %reload_ext autoreload\n"
     ]
    },
    {
     "data": {
      "text/html": [
       "<style>.container { width:100% !important; }</style>"
      ],
      "text/plain": [
       "<IPython.core.display.HTML object>"
      ]
     },
     "metadata": {},
     "output_type": "display_data"
    }
   ],
   "source": [
    "import os\n",
    "import subprocess\n",
    "import sys\n",
    "import numpy as np\n",
    "import itertools\n",
    "import json\n",
    "from tqdm import tqdm\n",
    "from IPython.display import display, HTML\n",
    "import time\n",
    "import copy\n",
    "from collections import namedtuple\n",
    "top_level_dir = '/'.join( os.getcwd().split( '/' )[ :-2 ] )\n",
    "if top_level_dir not in sys.path:\n",
    "    sys.path.append( top_level_dir )\n",
    "%load_ext autoreload\n",
    "%autoreload 2\n",
    "display(HTML(\"<style>.container { width:100% !important; }</style>\"))"
   ]
  },
  {
   "cell_type": "code",
   "execution_count": 9,
   "metadata": {},
   "outputs": [],
   "source": [
    "from GenModels.GM.Distributions import Categorical, Dirichlet, TensorTransition, TensorTransitionDirichletPrior\n",
    "from GenModels.research.PedigreeLoader import load\n",
    "from GenModels.research.PedigreeWrappers import PedigreeHMMFilter, PedigreeHMMFilterSexMatters, Pedigree, PedigreeSexMatters\n",
    "from GenModels.research.Models import *"
   ]
  },
  {
   "cell_type": "code",
   "execution_count": 3,
   "metadata": {
    "scrolled": true
   },
   "outputs": [
    {
     "name": "stdout",
     "output_type": "stream",
     "text": [
      "Graph 4671AT.json is incorrect. 10\n",
      "Graph 371KD.json is incorrect. 6\n",
      "Graph 6030CH.json is incorrect. 25\n",
      "Graph 3743MH.json is incorrect. -1\n",
      "Graph 5470NG.json is incorrect. -1\n",
      "Graph 928DW.json is incorrect. -5\n",
      "Graph 6210HG.json is incorrect. 21\n",
      "Graph 2049EE.json is incorrect. -1\n",
      "Graph 1044IO.json is incorrect. -1\n",
      "Graph 773SM.json is incorrect. 30\n",
      "Graph 5833TK.json is incorrect. 2\n",
      "Graph 5738AT.json is incorrect. Can't have an edge with no children!!!!\n",
      "Graph 3427NF.json is incorrect. -1\n",
      "Graph 4956RL.json is incorrect. 3\n",
      "Graph 5022KK.json is incorrect. 31\n",
      "Graph 5101LV.json is incorrect. 3\n",
      "Graph 3420MZ.json is incorrect. 2\n",
      "Graph 3515JA.json is incorrect. 2\n",
      "Graph 5865MH.json is incorrect. This graph is disjoint!!!\n",
      "Graph 3919MR.json is incorrect. 1\n",
      "Graph 473DM.json is incorrect. 30\n",
      "Graph NEI_INVPK971KPR.json is incorrect. Can't have an edge with no children!!!!\n",
      "Graph 4737AL.json is incorrect. 2\n",
      "Graph 5697MS.json is incorrect. 3\n",
      "Graph 6199RS.json is incorrect. 14\n",
      "Graph 4835MM.json is incorrect. -4\n",
      "Graph 3055CG.json is incorrect. -1\n",
      "Graph NEI_INVPR982XJT.json is incorrect. -1\n",
      "Graph 5035KK.json is incorrect. 1\n",
      "Graph NEI_INVPE887JM0.json is incorrect. -1\n",
      "Graph 379RF.json is incorrect. 1\n",
      "Graph 3672DW.json is incorrect. 13\n",
      "Graph 5855MO.json is incorrect. 12\n",
      "Graph 5392KT.json is incorrect. 25\n",
      "Graph 3086GA.json is incorrect. 4\n",
      "Graph 4957KL.json is incorrect. 10\n",
      "Graph 3818IJ.json is incorrect. -10\n",
      "Graph 5546EL.json is incorrect. 21\n",
      "Graph NEI_INVLY002NLJ.json is incorrect. Can't have an edge with no children!!!!\n",
      "Graph 370JF.json is incorrect. 6\n",
      "Graph 235TL.json is incorrect. 1\n",
      "Graph 6261JS.json is incorrect. -28\n",
      "Graph NEI_INVNX703MYA.json is incorrect. 1\n",
      "Graph 1011MB.json is incorrect. 3\n",
      "Graph NEI_INVTV261VMB.json is incorrect. 8\n",
      "Graph 316CD.json is incorrect. 10\n",
      "Graph 3757MR.json is incorrect. 5\n",
      "Graph NEI_INVHH078NP4.json is incorrect. Can't have an edge with no children!!!!\n",
      "Graph 3267NF.json is incorrect. -1\n",
      "Graph 4958NG.json is incorrect. -12\n",
      "Graph 346GT.json is incorrect. 27\n",
      "Graph 273PA.json is incorrect. 3\n",
      "Graph 840CJ.json is incorrect. 3\n",
      "Graph 772GT.json is incorrect. -24\n",
      "Graph 2068AP.json is incorrect. 18\n",
      "Graph 3903KA.json is incorrect. 1\n",
      "Graph 4428MN.json is incorrect. -8\n",
      "Graph 1038CG.json is incorrect. -1\n",
      "Graph 329JR.json is incorrect. 2\n",
      "Graph 3507AA.json is incorrect. 1\n",
      "Graph 3011JB.json is incorrect. Edge before: 1 but tried setting: 2\n",
      "Graph NEI_INVMD956GGN.json is incorrect. 4\n",
      "Graph 5701LC.json is incorrect. 15\n",
      "Graph NEI_INVCE479GKE.json is incorrect. 98\n",
      "Graph NEI_INVPT827UYN.json is incorrect. Can't have an edge with no children!!!!\n",
      "Graph 3848CB.json is incorrect. 20\n",
      "Graph 4359BK.json is incorrect. 2\n",
      "Graph 3729MM.json is incorrect. 32\n",
      "Graph 3261MM.json is incorrect. 14\n",
      "Graph 6158AT.json is incorrect. -5\n",
      "Graph 3864AH.json is incorrect. -1\n",
      "Graph 927NW.json is incorrect. -22\n",
      "Graph 5992VM.json is incorrect. -1\n",
      "Graph 4205CT.json is incorrect. 2\n",
      "Graph NEI_INVGW999XGM.json is incorrect. Can't have an edge with no children!!!!\n",
      "Graph 5712CS.json is incorrect. 3\n",
      "Graph 3948DW.json is incorrect. -18\n",
      "Graph 3605JG.json is incorrect. -1\n",
      "Graph 2018LM.json is incorrect. -1\n",
      "Graph 4338IR.json is incorrect. 2\n",
      "Graph 3200BK.json is incorrect. 1\n",
      "Graph 3203NZ.json is incorrect. 37\n",
      "Graph 4940KJ.json is incorrect. -1\n",
      "Graph 5951MB.json is incorrect. 1\n",
      "Graph 3379KS.json is incorrect. Edge before: 6 but tried setting: 8\n",
      "Graph 1083BF.json is incorrect. -1\n",
      "Graph 6066RB.json is incorrect. -1\n",
      "Graph 5713BS.json is incorrect. 3\n",
      "Graph NEI_INVAH638ERF.json is incorrect. Edge before: 0 but tried setting: 8\n",
      "Graph 4994BD.json is incorrect. -19\n",
      "Graph 1079JM.json is incorrect. 47\n",
      "Graph 5081LD.json is incorrect. 3\n",
      "Graph 3216LP.json is incorrect. 13\n",
      "Graph 4870BF.json is incorrect. -1\n",
      "Graph 4776EW.json is incorrect. 24\n"
     ]
    }
   ],
   "source": [
    "graphs = load()"
   ]
  },
  {
   "cell_type": "code",
   "execution_count": 4,
   "metadata": {},
   "outputs": [
    {
     "data": {
      "text/plain": [
       "430"
      ]
     },
     "execution_count": 4,
     "metadata": {},
     "output_type": "execute_result"
    }
   ],
   "source": [
    "len( graphs )"
   ]
  },
  {
   "cell_type": "code",
   "execution_count": 10,
   "metadata": {},
   "outputs": [
    {
     "name": "stdout",
     "output_type": "stream",
     "text": [
      "Number of graphs for AD: 132 AR: 197 XL: 98\n"
     ]
    }
   ],
   "source": [
    "ad_graphs = [ ( graph, fbs ) for graph, fbs in graphs if graph.inheritancePattern == 'AD' ]\n",
    "ar_graphs = [ ( graph, fbs ) for graph, fbs in graphs if graph.inheritancePattern == 'AR' ]\n",
    "xl_graphs = [ ( graph, fbs ) for graph, fbs in graphs if graph.inheritancePattern == 'XL' ]\n",
    "print( 'Number of graphs for AD: %d AR: %d XL: %d'%( len( ad_graphs ), len( ar_graphs ), len( xl_graphs )) )"
   ]
  },
  {
   "cell_type": "markdown",
   "metadata": {},
   "source": [
    "# Estimating E[ P( Y ) ] using Mendellian priors is biased towards autosomal recessive"
   ]
  },
  {
   "cell_type": "code",
   "execution_count": 19,
   "metadata": {},
   "outputs": [],
   "source": [
    "ad = AutosomalDominant( [ ad_graphs[ 0 ] ], method='Gibbs' )\n",
    "ar = AutosomalRecessive( [ ar_graphs[ 0 ] ], method='Gibbs' )"
   ]
  },
  {
   "cell_type": "code",
   "execution_count": 20,
   "metadata": {},
   "outputs": [],
   "source": [
    "ar.fitStep()"
   ]
  },
  {
   "cell_type": "code",
   "execution_count": null,
   "metadata": {},
   "outputs": [],
   "source": []
  }
 ],
 "metadata": {
  "kernelspec": {
   "display_name": "Python [conda env:GenModel]",
   "language": "python",
   "name": "conda-env-GenModel-py"
  },
  "language_info": {
   "codemirror_mode": {
    "name": "ipython",
    "version": 3
   },
   "file_extension": ".py",
   "mimetype": "text/x-python",
   "name": "python",
   "nbconvert_exporter": "python",
   "pygments_lexer": "ipython3",
   "version": "3.6.6"
  }
 },
 "nbformat": 4,
 "nbformat_minor": 2
}
